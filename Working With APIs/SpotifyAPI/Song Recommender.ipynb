{
 "cells": [
  {
   "cell_type": "code",
   "execution_count": 1,
   "id": "4ab28f85",
   "metadata": {},
   "outputs": [],
   "source": [
    "import pandas as pd\n",
    "import random\n",
    "import pickle\n",
    "from sklearn.preprocessing import MinMaxScaler\n",
    "from sklearn.cluster import KMeans\n",
    "import spotipy\n",
    "from spotipy.oauth2 import SpotifyClientCredentials"
   ]
  },
  {
   "cell_type": "markdown",
   "id": "d1c9924f",
   "metadata": {},
   "source": [
    "### Connecting to Spotify:"
   ]
  },
  {
   "cell_type": "code",
   "execution_count": 2,
   "id": "8165e4a4",
   "metadata": {},
   "outputs": [
    {
     "ename": "FileNotFoundError",
     "evalue": "[Errno 2] No such file or directory: 'secrets.txt'",
     "output_type": "error",
     "traceback": [
      "\u001b[1;31m---------------------------------------------------------------------------\u001b[0m",
      "\u001b[1;31mFileNotFoundError\u001b[0m                         Traceback (most recent call last)",
      "\u001b[1;32m~\\AppData\\Local\\Temp\\ipykernel_25100\\4281231210.py\u001b[0m in \u001b[0;36m<module>\u001b[1;34m\u001b[0m\n\u001b[1;32m----> 1\u001b[1;33m \u001b[0msecrets_file\u001b[0m \u001b[1;33m=\u001b[0m \u001b[0mopen\u001b[0m\u001b[1;33m(\u001b[0m\u001b[1;34m\"secrets.txt\"\u001b[0m\u001b[1;33m,\u001b[0m\u001b[1;34m\"r\"\u001b[0m\u001b[1;33m)\u001b[0m\u001b[1;33m\u001b[0m\u001b[1;33m\u001b[0m\u001b[0m\n\u001b[0m\u001b[0;32m      2\u001b[0m \u001b[1;33m\u001b[0m\u001b[0m\n\u001b[0;32m      3\u001b[0m \u001b[0mstring\u001b[0m \u001b[1;33m=\u001b[0m \u001b[0msecrets_file\u001b[0m\u001b[1;33m.\u001b[0m\u001b[0mread\u001b[0m\u001b[1;33m(\u001b[0m\u001b[1;33m)\u001b[0m\u001b[1;33m\u001b[0m\u001b[1;33m\u001b[0m\u001b[0m\n\u001b[0;32m      4\u001b[0m \u001b[1;33m\u001b[0m\u001b[0m\n\u001b[0;32m      5\u001b[0m \u001b[0msecrets_dict\u001b[0m\u001b[1;33m=\u001b[0m\u001b[1;33m{\u001b[0m\u001b[1;33m}\u001b[0m\u001b[1;33m\u001b[0m\u001b[1;33m\u001b[0m\u001b[0m\n",
      "\u001b[1;31mFileNotFoundError\u001b[0m: [Errno 2] No such file or directory: 'secrets.txt'"
     ]
    }
   ],
   "source": [
    "secrets_file = open(\"secrets.txt\",\"r\")\n",
    "\n",
    "string = secrets_file.read()\n",
    "\n",
    "secrets_dict={}\n",
    "\n",
    "for line in string.split('\\n'):\n",
    "    if len(line) > 0:\n",
    "        secrets_dict[line.split(':')[0]]=line.split(':')[1].strip()\n",
    "        \n",
    "sp = spotipy.Spotify(auth_manager=SpotifyClientCredentials(client_id=secrets_dict['cid'],\n",
    "                                                           client_secret=secrets_dict['csecret']))"
   ]
  },
  {
   "cell_type": "markdown",
   "id": "2751ab8f",
   "metadata": {},
   "source": [
    "### Unpickling my Model and Scaler:"
   ]
  },
  {
   "cell_type": "code",
   "execution_count": null,
   "id": "10b46587",
   "metadata": {},
   "outputs": [],
   "source": [
    "kmeans = pickle.load(open('kmeans.pkl','rb'))\n",
    "scaler = pickle.load(open('minmax.pkl','rb'))"
   ]
  },
  {
   "cell_type": "markdown",
   "id": "26e8776c",
   "metadata": {},
   "source": [
    "### Loading the Data needed:"
   ]
  },
  {
   "cell_type": "code",
   "execution_count": null,
   "id": "92cbf729",
   "metadata": {},
   "outputs": [],
   "source": [
    "top100 = pd.read_csv('songs.csv')\n",
    "alternative = pd.read_csv('kaggle_and_my_songs.csv')"
   ]
  },
  {
   "cell_type": "code",
   "execution_count": null,
   "id": "0db503b0",
   "metadata": {},
   "outputs": [],
   "source": [
    "display(top100.head(3))\n",
    "display(alternative)"
   ]
  },
  {
   "cell_type": "markdown",
   "id": "ae1624c2",
   "metadata": {},
   "source": [
    "### Getting a sing to recommend on:"
   ]
  },
  {
   "cell_type": "code",
   "execution_count": null,
   "id": "ec40db0e",
   "metadata": {},
   "outputs": [],
   "source": [
    "input_song = [input('Enter your favorite songs\\n> ').strip()]"
   ]
  },
  {
   "cell_type": "markdown",
   "id": "1e06808c",
   "metadata": {},
   "source": [
    "### Recommending:"
   ]
  },
  {
   "cell_type": "code",
   "execution_count": null,
   "id": "10f48231",
   "metadata": {
    "scrolled": true
   },
   "outputs": [],
   "source": [
    "import random\n",
    "\n",
    "song_lst = top100['song'].tolist()\n",
    "favorites = top100[top100.song.isin(input_song)]\n",
    "fav_lst = favorites.song.tolist()\n",
    "track_feats = pd.DataFrame()\n",
    "# print(fav_lst)\n",
    "# print(favorites)\n",
    "\n",
    "\n",
    "if not not fav_lst:\n",
    "#     print(not not fav_lst)\n",
    "    print(random.choice(song_lst))\n",
    "if not fav_lst:\n",
    "#         track_feats = pd.DataFrame()\n",
    "    for a in input_song:\n",
    "        track = sp.search(q=a)\n",
    "        track_uri = [track['tracks']['items'][0]['uri']]\n",
    "    #     print(v)\n",
    "    #     print(track_uri)\n",
    "    for b in track_uri:\n",
    "        track_feats = track_feats.append((sp.audio_features(b)),ignore_index=True)\n",
    "        track_feats = track_feats.select_dtypes(include='number')\n",
    "        track_feats = pd.DataFrame(scaler.transform(track_feats), columns=track_feats.columns)\n",
    "        track_cluster = kmeans.predict(track_feats).tolist()\n",
    "    #     display(track_feats)\n",
    "    #     display(track_cluster)\n",
    "    for c in track_cluster:\n",
    "        rec = alternative[(alternative['cluster'] == c)].sample()\n",
    "        display(rec[['song','artist']])"
   ]
  },
  {
   "cell_type": "code",
   "execution_count": null,
   "id": "7c6cfca7",
   "metadata": {},
   "outputs": [],
   "source": []
  }
 ],
 "metadata": {
  "kernelspec": {
   "display_name": "Python 3 (ipykernel)",
   "language": "python",
   "name": "python3"
  },
  "language_info": {
   "codemirror_mode": {
    "name": "ipython",
    "version": 3
   },
   "file_extension": ".py",
   "mimetype": "text/x-python",
   "name": "python",
   "nbconvert_exporter": "python",
   "pygments_lexer": "ipython3",
   "version": "3.9.13"
  }
 },
 "nbformat": 4,
 "nbformat_minor": 5
}
