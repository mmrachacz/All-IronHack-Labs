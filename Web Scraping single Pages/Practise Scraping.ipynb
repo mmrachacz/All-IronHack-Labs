{
 "cells": [
  {
   "cell_type": "code",
   "execution_count": 1,
   "id": "8de006f4",
   "metadata": {},
   "outputs": [],
   "source": [
    "from bs4 import BeautifulSoup\n",
    "import requests\n",
    "import pandas as pd\n",
    "from time import sleep\n",
    "from random import randint"
   ]
  },
  {
   "cell_type": "markdown",
   "id": "9194931b",
   "metadata": {},
   "source": [
    "# FBI's Most Wanted:"
   ]
  },
  {
   "cell_type": "code",
   "execution_count": 2,
   "id": "cdeb8e89",
   "metadata": {},
   "outputs": [],
   "source": [
    "url = 'https://www.fbi.gov/wanted/topten'"
   ]
  },
  {
   "cell_type": "code",
   "execution_count": 3,
   "id": "f936cad7",
   "metadata": {},
   "outputs": [
    {
     "data": {
      "text/plain": [
       "200"
      ]
     },
     "execution_count": 3,
     "metadata": {},
     "output_type": "execute_result"
    }
   ],
   "source": [
    "# download html with a get request\n",
    "response = requests.get(url)\n",
    "response.status_code"
   ]
  },
  {
   "cell_type": "code",
   "execution_count": 4,
   "id": "088c2914",
   "metadata": {},
   "outputs": [],
   "source": [
    "# parse html (create the 'soup')\n",
    "soup = BeautifulSoup(response.content, \"html.parser\")"
   ]
  },
  {
   "cell_type": "code",
   "execution_count": 5,
   "id": "aed80e71",
   "metadata": {},
   "outputs": [],
   "source": [
    "#print(soup.prettify())"
   ]
  },
  {
   "cell_type": "code",
   "execution_count": 6,
   "id": "050dea7b",
   "metadata": {},
   "outputs": [],
   "source": [
    "#query-results-0f737222c5054a81a120bce207b0446a > ul > li:nth-child(1) > h3 > a"
   ]
  },
  {
   "cell_type": "code",
   "execution_count": 7,
   "id": "b3212438",
   "metadata": {},
   "outputs": [
    {
     "data": {
      "text/plain": [
       "[<a href=\"https://www.fbi.gov/wanted/topten/omar-alexander-cardenas\">OMAR ALEXANDER CARDENAS</a>,\n",
       " <a href=\"https://www.fbi.gov/wanted/topten/alexis-flores\">ALEXIS FLORES</a>,\n",
       " <a href=\"https://www.fbi.gov/wanted/topten/bhadreshkumar-chetanbhai-patel\">BHADRESHKUMAR CHETANBHAI PATEL</a>,\n",
       " <a href=\"https://www.fbi.gov/wanted/topten/alejandro-castillo\">ALEJANDRO ROSALES CASTILLO</a>,\n",
       " <a href=\"https://www.fbi.gov/wanted/topten/yulan-adonay-archaga-carias\">YULAN ADONAY ARCHAGA CARIAS</a>,\n",
       " <a href=\"https://www.fbi.gov/wanted/topten/ruja-ignatova\">RUJA IGNATOVA</a>,\n",
       " <a href=\"https://www.fbi.gov/wanted/topten/arnoldo-jimenez\">ARNOLDO JIMENEZ</a>,\n",
       " <a href=\"https://www.fbi.gov/wanted/topten/michael-james-pratt\">MICHAEL JAMES PRATT</a>,\n",
       " <a href=\"https://www.fbi.gov/wanted/topten/jose-rodolfo-villarreal-hernandez\">JOSE RODOLFO VILLARREAL-HERNANDEZ</a>,\n",
       " <a href=\"https://www.fbi.gov/wanted/topten/rafael-caro-quintero\">RAFAEL CARO-QUINTERO</a>]"
      ]
     },
     "execution_count": 7,
     "metadata": {},
     "output_type": "execute_result"
    }
   ],
   "source": [
    "soup.select('h3 > a')"
   ]
  },
  {
   "cell_type": "code",
   "execution_count": 8,
   "id": "87554f34",
   "metadata": {},
   "outputs": [
    {
     "data": {
      "text/plain": [
       "['OMAR ALEXANDER CARDENAS',\n",
       " 'ALEXIS FLORES',\n",
       " 'BHADRESHKUMAR CHETANBHAI PATEL',\n",
       " 'ALEJANDRO ROSALES CASTILLO',\n",
       " 'YULAN ADONAY ARCHAGA CARIAS',\n",
       " 'RUJA IGNATOVA',\n",
       " 'ARNOLDO JIMENEZ',\n",
       " 'MICHAEL JAMES PRATT',\n",
       " 'JOSE RODOLFO VILLARREAL-HERNANDEZ',\n",
       " 'RAFAEL CARO-QUINTERO']"
      ]
     },
     "execution_count": 8,
     "metadata": {},
     "output_type": "execute_result"
    }
   ],
   "source": [
    "top10 = []\n",
    "\n",
    "num_iter = len(soup.select('h3 > a'))\n",
    "\n",
    "mostwanted = soup.select('h3 > a')\n",
    "\n",
    "for i in range(num_iter):\n",
    "    top10.append(mostwanted[i].get_text())\n",
    "    \n",
    "top10"
   ]
  },
  {
   "cell_type": "markdown",
   "id": "7e7ee3b4",
   "metadata": {},
   "source": [
    "# Python List:"
   ]
  },
  {
   "cell_type": "code",
   "execution_count": 9,
   "id": "83e63508",
   "metadata": {},
   "outputs": [],
   "source": [
    "url2 = 'https://en.wikipedia.org/wiki/Python'"
   ]
  },
  {
   "cell_type": "code",
   "execution_count": 10,
   "id": "760fb4a0",
   "metadata": {},
   "outputs": [
    {
     "data": {
      "text/plain": [
       "200"
      ]
     },
     "execution_count": 10,
     "metadata": {},
     "output_type": "execute_result"
    }
   ],
   "source": [
    "# download html with a get request\n",
    "response2 = requests.get(url2)\n",
    "response.status_code"
   ]
  },
  {
   "cell_type": "code",
   "execution_count": 11,
   "id": "c0d272ca",
   "metadata": {},
   "outputs": [],
   "source": [
    "# parse html (create the 'soup')\n",
    "soup2 = BeautifulSoup(response2.content, \"html.parser\")"
   ]
  },
  {
   "cell_type": "code",
   "execution_count": 12,
   "id": "bcce438d",
   "metadata": {},
   "outputs": [],
   "source": [
    "#mw-content-text > div.mw-parser-output"
   ]
  },
  {
   "cell_type": "code",
   "execution_count": 13,
   "id": "0e5655ca",
   "metadata": {},
   "outputs": [
    {
     "data": {
      "text/plain": [
       "[<a class=\"extiw\" href=\"https://en.wiktionary.org/wiki/Python\" title=\"wiktionary:Python\">Python</a>,\n",
       " <a class=\"extiw\" href=\"https://en.wiktionary.org/wiki/python\" title=\"wiktionary:python\">python</a>,\n",
       " <a href=\"/w/index.php?title=Python&amp;action=edit&amp;section=1\" title=\"Edit section: Snakes\">edit</a>,\n",
       " <a href=\"/wiki/Pythonidae\" title=\"Pythonidae\">Pythonidae</a>,\n",
       " <a href=\"/wiki/Python_(genus)\" title=\"Python (genus)\"><i>Python</i> (genus)</a>,\n",
       " <a href=\"/wiki/Python_(mythology)\" title=\"Python (mythology)\">Python (mythology)</a>,\n",
       " <a href=\"/w/index.php?title=Python&amp;action=edit&amp;section=2\" title=\"Edit section: Computing\">edit</a>,\n",
       " <a href=\"/wiki/Python_(programming_language)\" title=\"Python (programming language)\">Python (programming language)</a>,\n",
       " <a href=\"/wiki/CMU_Common_Lisp\" title=\"CMU Common Lisp\">CMU Common Lisp</a>,\n",
       " <a href=\"/wiki/PERQ#PERQ_3\" title=\"PERQ\">PERQ 3</a>,\n",
       " <a href=\"/w/index.php?title=Python&amp;action=edit&amp;section=3\" title=\"Edit section: People\">edit</a>,\n",
       " <a href=\"/wiki/Python_of_Aenus\" title=\"Python of Aenus\">Python of Aenus</a>,\n",
       " <a href=\"/wiki/Python_(painter)\" title=\"Python (painter)\">Python (painter)</a>,\n",
       " <a href=\"/wiki/Python_of_Byzantium\" title=\"Python of Byzantium\">Python of Byzantium</a>,\n",
       " <a href=\"/wiki/Python_of_Catana\" title=\"Python of Catana\">Python of Catana</a>,\n",
       " <a href=\"/wiki/Python_Anghelo\" title=\"Python Anghelo\">Python Anghelo</a>,\n",
       " <a href=\"/w/index.php?title=Python&amp;action=edit&amp;section=4\" title=\"Edit section: Roller coasters\">edit</a>,\n",
       " <a href=\"/wiki/Python_(Efteling)\" title=\"Python (Efteling)\">Python (Efteling)</a>,\n",
       " <a href=\"/wiki/Python_(Busch_Gardens_Tampa_Bay)\" title=\"Python (Busch Gardens Tampa Bay)\">Python (Busch Gardens Tampa Bay)</a>,\n",
       " <a href=\"/wiki/Python_(Coney_Island,_Cincinnati,_Ohio)\" title=\"Python (Coney Island, Cincinnati, Ohio)\">Python (Coney Island, Cincinnati, Ohio)</a>,\n",
       " <a href=\"/w/index.php?title=Python&amp;action=edit&amp;section=5\" title=\"Edit section: Vehicles\">edit</a>,\n",
       " <a href=\"/wiki/Python_(automobile_maker)\" title=\"Python (automobile maker)\">Python (automobile maker)</a>,\n",
       " <a href=\"/wiki/Python_(Ford_prototype)\" title=\"Python (Ford prototype)\">Python (Ford prototype)</a>,\n",
       " <a href=\"/w/index.php?title=Python&amp;action=edit&amp;section=6\" title=\"Edit section: Weaponry\">edit</a>,\n",
       " <a href=\"/wiki/Python_(missile)\" title=\"Python (missile)\">Python (missile)</a>,\n",
       " <a href=\"/wiki/Python_(nuclear_primary)\" title=\"Python (nuclear primary)\">Python (nuclear primary)</a>,\n",
       " <a href=\"/wiki/Colt_Python\" title=\"Colt Python\">Colt Python</a>,\n",
       " <a href=\"/w/index.php?title=Python&amp;action=edit&amp;section=7\" title=\"Edit section: Other uses\">edit</a>,\n",
       " <a href=\"/wiki/Python_(codename)\" title=\"Python (codename)\">Python (codename)</a>,\n",
       " <a href=\"/wiki/Python_(film)\" title=\"Python (film)\"><i>Python</i> (film)</a>,\n",
       " <a href=\"/wiki/Monty_Python\" title=\"Monty Python\">Monty Python</a>,\n",
       " <a href=\"/wiki/Python_(Monty)_Pictures\" title=\"Python (Monty) Pictures\">Python (Monty) Pictures</a>,\n",
       " <a href=\"/wiki/Timon_of_Phlius\" title=\"Timon of Phlius\">Timon of Phlius</a>,\n",
       " <a href=\"/w/index.php?title=Python&amp;action=edit&amp;section=8\" title=\"Edit section: See also\">edit</a>,\n",
       " <a href=\"/wiki/Pyton\" title=\"Pyton\">Pyton</a>,\n",
       " <a href=\"/wiki/Pithon\" title=\"Pithon\">Pithon</a>,\n",
       " <a class=\"image\" href=\"/wiki/File:Disambig_gray.svg\"><img alt=\"Disambiguation icon\" data-file-height=\"168\" data-file-width=\"220\" decoding=\"async\" height=\"23\" src=\"//upload.wikimedia.org/wikipedia/en/thumb/5/5f/Disambig_gray.svg/30px-Disambig_gray.svg.png\" srcset=\"//upload.wikimedia.org/wikipedia/en/thumb/5/5f/Disambig_gray.svg/45px-Disambig_gray.svg.png 1.5x, //upload.wikimedia.org/wikipedia/en/thumb/5/5f/Disambig_gray.svg/60px-Disambig_gray.svg.png 2x\" width=\"30\"/></a>,\n",
       " <a href=\"/wiki/Help:Disambiguation\" title=\"Help:Disambiguation\">disambiguation</a>,\n",
       " <a class=\"external text\" href=\"https://en.wikipedia.org/w/index.php?title=Special:WhatLinksHere/Python&amp;namespace=0\">internal link</a>]"
      ]
     },
     "execution_count": 13,
     "metadata": {},
     "output_type": "execute_result"
    }
   ],
   "source": [
    "soup2.select('#mw-content-text > div.mw-parser-output a')"
   ]
  },
  {
   "cell_type": "code",
   "execution_count": 14,
   "id": "b81da05e",
   "metadata": {},
   "outputs": [
    {
     "data": {
      "text/plain": [
       "['https://en.wiktionary.org/wiki/Python',\n",
       " 'https://en.wiktionary.org/wiki/python',\n",
       " '/w/index.php?title=Python&action=edit&section=1',\n",
       " '/wiki/Pythonidae',\n",
       " '/wiki/Python_(genus)',\n",
       " '/wiki/Python_(mythology)',\n",
       " '/w/index.php?title=Python&action=edit&section=2',\n",
       " '/wiki/Python_(programming_language)',\n",
       " '/wiki/CMU_Common_Lisp',\n",
       " '/wiki/PERQ#PERQ_3',\n",
       " '/w/index.php?title=Python&action=edit&section=3',\n",
       " '/wiki/Python_of_Aenus',\n",
       " '/wiki/Python_(painter)',\n",
       " '/wiki/Python_of_Byzantium',\n",
       " '/wiki/Python_of_Catana',\n",
       " '/wiki/Python_Anghelo',\n",
       " '/w/index.php?title=Python&action=edit&section=4',\n",
       " '/wiki/Python_(Efteling)',\n",
       " '/wiki/Python_(Busch_Gardens_Tampa_Bay)',\n",
       " '/wiki/Python_(Coney_Island,_Cincinnati,_Ohio)',\n",
       " '/w/index.php?title=Python&action=edit&section=5',\n",
       " '/wiki/Python_(automobile_maker)',\n",
       " '/wiki/Python_(Ford_prototype)',\n",
       " '/w/index.php?title=Python&action=edit&section=6',\n",
       " '/wiki/Python_(missile)',\n",
       " '/wiki/Python_(nuclear_primary)',\n",
       " '/wiki/Colt_Python',\n",
       " '/w/index.php?title=Python&action=edit&section=7',\n",
       " '/wiki/Python_(codename)',\n",
       " '/wiki/Python_(film)',\n",
       " '/wiki/Monty_Python',\n",
       " '/wiki/Python_(Monty)_Pictures',\n",
       " '/wiki/Timon_of_Phlius',\n",
       " '/w/index.php?title=Python&action=edit&section=8',\n",
       " '/wiki/Pyton',\n",
       " '/wiki/Pithon',\n",
       " '/wiki/File:Disambig_gray.svg',\n",
       " '/wiki/Help:Disambiguation',\n",
       " 'https://en.wikipedia.org/w/index.php?title=Special:WhatLinksHere/Python&namespace=0']"
      ]
     },
     "execution_count": 14,
     "metadata": {},
     "output_type": "execute_result"
    }
   ],
   "source": [
    "links = []\n",
    "\n",
    "for i in soup2.select('#mw-content-text > div.mw-parser-output a'):\n",
    "    links.append(i[\"href\"])\n",
    "            \n",
    "links"
   ]
  },
  {
   "cell_type": "code",
   "execution_count": 15,
   "id": "678e7608",
   "metadata": {},
   "outputs": [
    {
     "data": {
      "text/plain": [
       "['/wiki/Pythonidae',\n",
       " '/wiki/Python_(genus)',\n",
       " '/wiki/Python_(mythology)',\n",
       " '/wiki/Python_(programming_language)',\n",
       " '/wiki/CMU_Common_Lisp',\n",
       " '/wiki/PERQ#PERQ_3',\n",
       " '/wiki/Python_of_Aenus',\n",
       " '/wiki/Python_(painter)',\n",
       " '/wiki/Python_of_Byzantium',\n",
       " '/wiki/Python_of_Catana',\n",
       " '/wiki/Python_Anghelo',\n",
       " '/wiki/Python_(Efteling)',\n",
       " '/wiki/Python_(Busch_Gardens_Tampa_Bay)',\n",
       " '/wiki/Python_(Coney_Island,_Cincinnati,_Ohio)',\n",
       " '/wiki/Python_(automobile_maker)',\n",
       " '/wiki/Python_(Ford_prototype)',\n",
       " '/wiki/Python_(missile)',\n",
       " '/wiki/Python_(nuclear_primary)',\n",
       " '/wiki/Colt_Python',\n",
       " '/wiki/Python_(codename)',\n",
       " '/wiki/Python_(film)',\n",
       " '/wiki/Monty_Python',\n",
       " '/wiki/Python_(Monty)_Pictures',\n",
       " '/wiki/Timon_of_Phlius',\n",
       " '/wiki/Pyton',\n",
       " '/wiki/Pithon',\n",
       " '/wiki/Help:Disambiguation']"
      ]
     },
     "execution_count": 15,
     "metadata": {},
     "output_type": "execute_result"
    }
   ],
   "source": [
    "for i in links:\n",
    "#     if i.startswith('/wiki/'):\n",
    "#         i = 'https://en.wikipedia.org/wiki/Python'+i\n",
    "    if '/w/' in i:\n",
    "        links.remove(i)\n",
    "    if 'File' in i:\n",
    "        links.remove(i)\n",
    "    if 'Help' in i:\n",
    "        links.remove(i)\n",
    "    if 'wiktionary' in i:\n",
    "        links.remove(i)\n",
    "        \n",
    "links.pop(0)\n",
    "links"
   ]
  },
  {
   "cell_type": "code",
   "execution_count": 16,
   "id": "522b21d9",
   "metadata": {},
   "outputs": [
    {
     "data": {
      "text/plain": [
       "['https://en.wikipedia.org//wiki/Pythonidae',\n",
       " 'https://en.wikipedia.org//wiki/Python_(genus)',\n",
       " 'https://en.wikipedia.org//wiki/Python_(mythology)',\n",
       " 'https://en.wikipedia.org//wiki/Python_(programming_language)',\n",
       " 'https://en.wikipedia.org//wiki/CMU_Common_Lisp',\n",
       " 'https://en.wikipedia.org//wiki/PERQ#PERQ_3',\n",
       " 'https://en.wikipedia.org//wiki/Python_of_Aenus',\n",
       " 'https://en.wikipedia.org//wiki/Python_(painter)',\n",
       " 'https://en.wikipedia.org//wiki/Python_of_Byzantium',\n",
       " 'https://en.wikipedia.org//wiki/Python_of_Catana',\n",
       " 'https://en.wikipedia.org//wiki/Python_Anghelo',\n",
       " 'https://en.wikipedia.org//wiki/Python_(Efteling)',\n",
       " 'https://en.wikipedia.org//wiki/Python_(Busch_Gardens_Tampa_Bay)',\n",
       " 'https://en.wikipedia.org//wiki/Python_(Coney_Island,_Cincinnati,_Ohio)',\n",
       " 'https://en.wikipedia.org//wiki/Python_(automobile_maker)',\n",
       " 'https://en.wikipedia.org//wiki/Python_(Ford_prototype)',\n",
       " 'https://en.wikipedia.org//wiki/Python_(missile)',\n",
       " 'https://en.wikipedia.org//wiki/Python_(nuclear_primary)',\n",
       " 'https://en.wikipedia.org//wiki/Colt_Python',\n",
       " 'https://en.wikipedia.org//wiki/Python_(codename)',\n",
       " 'https://en.wikipedia.org//wiki/Python_(film)',\n",
       " 'https://en.wikipedia.org//wiki/Monty_Python',\n",
       " 'https://en.wikipedia.org//wiki/Python_(Monty)_Pictures',\n",
       " 'https://en.wikipedia.org//wiki/Timon_of_Phlius',\n",
       " 'https://en.wikipedia.org//wiki/Pyton',\n",
       " 'https://en.wikipedia.org//wiki/Pithon',\n",
       " 'https://en.wikipedia.org//wiki/Help:Disambiguation']"
      ]
     },
     "execution_count": 16,
     "metadata": {},
     "output_type": "execute_result"
    }
   ],
   "source": [
    "['https://en.wikipedia.org/' + i for i in links]"
   ]
  },
  {
   "cell_type": "markdown",
   "id": "58eb6b8f",
   "metadata": {},
   "source": [
    "# United States Code:"
   ]
  },
  {
   "cell_type": "code",
   "execution_count": 17,
   "id": "22e19348",
   "metadata": {},
   "outputs": [],
   "source": [
    "url3 = 'http://uscode.house.gov/download/download.shtml'"
   ]
  },
  {
   "cell_type": "code",
   "execution_count": 18,
   "id": "7a2093a9",
   "metadata": {},
   "outputs": [
    {
     "data": {
      "text/plain": [
       "200"
      ]
     },
     "execution_count": 18,
     "metadata": {},
     "output_type": "execute_result"
    }
   ],
   "source": [
    "# download html with a get request\n",
    "response3 = requests.get(url3)\n",
    "response3.status_code"
   ]
  },
  {
   "cell_type": "code",
   "execution_count": 19,
   "id": "a4467a50",
   "metadata": {},
   "outputs": [],
   "source": [
    "# parse html (create the 'soup')\n",
    "soup3 = BeautifulSoup(response3.content, \"html.parser\")"
   ]
  },
  {
   "cell_type": "code",
   "execution_count": 20,
   "id": "549cb3de",
   "metadata": {},
   "outputs": [],
   "source": [
    "# print(soup3.prettify())"
   ]
  },
  {
   "cell_type": "code",
   "execution_count": 21,
   "id": "f0a37422",
   "metadata": {},
   "outputs": [],
   "source": [
    "# soup3.select('#content > div > div > div')"
   ]
  },
  {
   "cell_type": "code",
   "execution_count": 22,
   "id": "e9e9fc92",
   "metadata": {},
   "outputs": [],
   "source": [
    "# in chrome developer tool, changed titel show as class=\"usctitlechanged\" \n",
    "# when they were changed since last release. when i copy the selector to python, \n",
    "# they have the same class as all the unchanged titles, no distinczion between changed and unchanged\n",
    "# anymore. this frustrates me as i dont what to do now... "
   ]
  },
  {
   "cell_type": "markdown",
   "id": "8d4e3318",
   "metadata": {},
   "source": [
    "# Languages Wikipedia:"
   ]
  },
  {
   "cell_type": "code",
   "execution_count": 23,
   "id": "1a7a814e",
   "metadata": {},
   "outputs": [],
   "source": [
    "url4 = 'https://www.wikipedia.org/'"
   ]
  },
  {
   "cell_type": "code",
   "execution_count": 24,
   "id": "9283a9f9",
   "metadata": {},
   "outputs": [
    {
     "data": {
      "text/plain": [
       "200"
      ]
     },
     "execution_count": 24,
     "metadata": {},
     "output_type": "execute_result"
    }
   ],
   "source": [
    "# download html with a get request\n",
    "response4 = requests.get(url4)\n",
    "response4.status_code"
   ]
  },
  {
   "cell_type": "code",
   "execution_count": 25,
   "id": "4e01a922",
   "metadata": {},
   "outputs": [],
   "source": [
    "# parse html (create the 'soup')\n",
    "soup4 = BeautifulSoup(response4.content, \"html.parser\")"
   ]
  },
  {
   "cell_type": "code",
   "execution_count": 26,
   "id": "826e1ccb",
   "metadata": {},
   "outputs": [],
   "source": [
    "#print(soup4.prettify())"
   ]
  },
  {
   "cell_type": "code",
   "execution_count": 27,
   "id": "5aa47b55",
   "metadata": {},
   "outputs": [],
   "source": [
    "#www-wikipedia-org > div.central-featured\n",
    "# print(soup4.select('#www-wikipedia-org > div.central-featured bdi'))\n",
    "# print(soup4.select('#js-lang-lists a'))\n",
    "# print(soup4.select('#js-lang-lists bdi'))"
   ]
  },
  {
   "cell_type": "code",
   "execution_count": 28,
   "id": "4bac35b6",
   "metadata": {},
   "outputs": [],
   "source": [
    "# language = []\n",
    "# articles = []\n",
    "\n",
    "# num_iter1 = len(soup4.select('#js-lang-lists a'))\n",
    "# num_iter2 = len(soup4.select('#js-lang-lists bdi'))\n",
    "\n",
    "# lang = soup4.select('#js-lang-lists a')\n",
    "# art = soup4.select('#js-lang-lists bdi')\n",
    "\n",
    "# for i in range(num_iter1):\n",
    "#     language.append(lang[i].get_text())\n",
    "    \n",
    "# for i in range(num_iter2):\n",
    "#     articles.append(art[i].get_text())\n",
    "    \n",
    "# # print(language)\n",
    "# print(articles)"
   ]
  },
  {
   "cell_type": "code",
   "execution_count": 29,
   "id": "eb8ef459",
   "metadata": {},
   "outputs": [
    {
     "name": "stdout",
     "output_type": "stream",
     "text": [
      "[<ul>\n",
      "<li><a href=\"//pl.wikipedia.org/\" lang=\"pl\">Polski</a></li>\n",
      "<li><a href=\"//ar.wikipedia.org/\" lang=\"ar\" title=\"Al-ʿArabīyah\"><bdi dir=\"rtl\">العربية</bdi></a></li>\n",
      "<li><a href=\"//de.wikipedia.org/\" lang=\"de\">Deutsch</a></li>\n",
      "<li><a href=\"//en.wikipedia.org/\" lang=\"en\" title=\"English\">English</a></li>\n",
      "<li><a href=\"//es.wikipedia.org/\" lang=\"es\">Español</a></li>\n",
      "<li><a href=\"//fr.wikipedia.org/\" lang=\"fr\" title=\"français\">Français</a></li>\n",
      "<li><a href=\"//it.wikipedia.org/\" lang=\"it\">Italiano</a></li>\n",
      "<li><a href=\"//arz.wikipedia.org/\" lang=\"arz\" title=\"Maṣrī\"><bdi dir=\"rtl\">مصرى</bdi></a></li>\n",
      "<li><a href=\"//nl.wikipedia.org/\" lang=\"nl\">Nederlands</a></li>\n",
      "<li><a href=\"//ja.wikipedia.org/\" lang=\"ja\" title=\"Nihongo\">日本語</a></li>\n",
      "<li><a href=\"//pt.wikipedia.org/\" lang=\"pt\">Português</a></li>\n",
      "<li><a href=\"//ceb.wikipedia.org/\" lang=\"ceb\">Sinugboanong Binisaya</a></li>\n",
      "<li><a href=\"//sv.wikipedia.org/\" lang=\"sv\">Svenska</a></li>\n",
      "<li><a href=\"//uk.wikipedia.org/\" lang=\"uk\" title=\"Ukrayins’ka\">Українська</a></li>\n",
      "<li><a href=\"//vi.wikipedia.org/\" lang=\"vi\">Tiếng Việt</a></li>\n",
      "<li><a href=\"//war.wikipedia.org/\" lang=\"war\">Winaray</a></li>\n",
      "<li><a href=\"//zh.wikipedia.org/\" lang=\"zh\" title=\"Zhōngwén\">中文</a></li>\n",
      "<li><a href=\"//ru.wikipedia.org/\" lang=\"ru\" title=\"Russkiy\">Русский</a></li>\n",
      "</ul>]\n",
      "[<ul>\n",
      "<li><a href=\"//af.wikipedia.org/\" lang=\"af\">Afrikaans</a></li>\n",
      "<li><a href=\"//ast.wikipedia.org/\" lang=\"ast\">Asturianu</a></li>\n",
      "<li><a href=\"//az.wikipedia.org/\" lang=\"az\">Azərbaycanca</a></li>\n",
      "<li><a href=\"//bg.wikipedia.org/\" lang=\"bg\" title=\"Bǎlgarski\">Български</a></li>\n",
      "<li><a href=\"//zh-min-nan.wikipedia.org/\" lang=\"nan\">Bân-lâm-gú / Hō-ló-oē</a></li>\n",
      "<li><a href=\"//bn.wikipedia.org/\" lang=\"bn\" title=\"Bangla\">বাংলা</a></li>\n",
      "<li><a href=\"//be.wikipedia.org/\" lang=\"be\" title=\"Belaruskaya\">Беларуская</a></li>\n",
      "<li><a href=\"//ca.wikipedia.org/\" lang=\"ca\">Català</a></li>\n",
      "<li><a href=\"//cs.wikipedia.org/\" lang=\"cs\" title=\"čeština\">Čeština</a></li>\n",
      "<li><a href=\"//cy.wikipedia.org/\" lang=\"cy\" title=\"Cymraeg\">Cymraeg</a></li>\n",
      "<li><a href=\"//da.wikipedia.org/\" lang=\"da\">Dansk</a></li>\n",
      "<li><a href=\"//et.wikipedia.org/\" lang=\"et\">Eesti</a></li>\n",
      "<li><a href=\"//el.wikipedia.org/\" lang=\"el\" title=\"Ellīniká\">Ελληνικά</a></li>\n",
      "<li><a href=\"//eo.wikipedia.org/\" lang=\"eo\">Esperanto</a></li>\n",
      "<li><a href=\"//eu.wikipedia.org/\" lang=\"eu\">Euskara</a></li>\n",
      "<li><a href=\"//fa.wikipedia.org/\" lang=\"fa\" title=\"Fārsi\"><bdi dir=\"rtl\">فارسی</bdi></a></li>\n",
      "<li><a href=\"//gl.wikipedia.org/\" lang=\"gl\">Galego</a></li>\n",
      "<li><a href=\"//ko.wikipedia.org/\" lang=\"ko\" title=\"Hangugeo\">한국어</a></li>\n",
      "<li><a href=\"//hi.wikipedia.org/\" lang=\"hi\" title=\"Hindī\">हिन्दी</a></li>\n",
      "<li><a href=\"//hr.wikipedia.org/\" lang=\"hr\">Hrvatski</a></li>\n",
      "<li><a href=\"//id.wikipedia.org/\" lang=\"id\">Bahasa Indonesia</a></li>\n",
      "<li><a href=\"//he.wikipedia.org/\" lang=\"he\" title=\"Ivrit\"><bdi dir=\"rtl\">עברית</bdi></a></li>\n",
      "<li><a href=\"//ka.wikipedia.org/\" lang=\"ka\" title=\"Kartuli\">ქართული</a></li>\n",
      "<li><a href=\"//la.wikipedia.org/\" lang=\"la\">Latina</a></li>\n",
      "<li><a href=\"//lv.wikipedia.org/\" lang=\"lv\">Latviešu</a></li>\n",
      "<li><a href=\"//lt.wikipedia.org/\" lang=\"lt\">Lietuvių</a></li>\n",
      "<li><a href=\"//hu.wikipedia.org/\" lang=\"hu\">Magyar</a></li>\n",
      "<li><a href=\"//mk.wikipedia.org/\" lang=\"mk\" title=\"Makedonski\">Македонски</a></li>\n",
      "<li><a href=\"//ms.wikipedia.org/\" lang=\"ms\">Bahasa Melayu</a></li>\n",
      "<li><a href=\"//min.wikipedia.org/\" lang=\"min\">Bahaso Minangkabau</a></li>\n",
      "<li lang=\"no\">Norsk<ul><li><a href=\"//no.wikipedia.org/\" lang=\"nb\">bokmål</a></li><li><a href=\"//nn.wikipedia.org/\" lang=\"nn\">nynorsk</a></li></ul></li>\n",
      "<li><a href=\"//ce.wikipedia.org/\" lang=\"ce\" title=\"Noxçiyn\">Нохчийн</a></li>\n",
      "<li><a href=\"//uz.wikipedia.org/\" lang=\"uz\" title=\"Oʻzbekcha\">Oʻzbekcha / Ўзбекча</a></li>\n",
      "<li><a href=\"//kk.wikipedia.org/\" lang=\"kk\"><span lang=\"kk-Cyrl\">Қазақша</span> / <span lang=\"kk-Latn\">Qazaqşa</span> / <bdi dir=\"rtl\" lang=\"kk-Arab\">قازاقشا</bdi></a></li>\n",
      "<li><a href=\"//ro.wikipedia.org/\" lang=\"ro\" title=\"Română\">Română</a></li>\n",
      "<li><a href=\"//simple.wikipedia.org/\" lang=\"en\">Simple English</a></li>\n",
      "<li><a href=\"//sk.wikipedia.org/\" lang=\"sk\">Slovenčina</a></li>\n",
      "<li><a href=\"//sl.wikipedia.org/\" lang=\"sl\" title=\"slovenščina\">Slovenščina</a></li>\n",
      "<li><a href=\"//sr.wikipedia.org/\" lang=\"sr\">Српски / Srpski</a></li>\n",
      "<li><a href=\"//sh.wikipedia.org/\" lang=\"sh\">Srpskohrvatski / Српскохрватски</a></li>\n",
      "<li><a href=\"//fi.wikipedia.org/\" lang=\"fi\" title=\"suomi\">Suomi</a></li>\n",
      "<li><a href=\"//ta.wikipedia.org/\" lang=\"ta\" title=\"Tamiḻ\">தமிழ்</a></li>\n",
      "<li><a href=\"//tt.wikipedia.org/\" lang=\"tt\">Татарча / Tatarça</a></li>\n",
      "<li><a href=\"//th.wikipedia.org/\" lang=\"th\" title=\"Phasa Thai\">ภาษาไทย</a></li>\n",
      "<li><a href=\"//tg.wikipedia.org/\" lang=\"tg\" title=\"Tojikī\">Тоҷикӣ</a></li>\n",
      "<li><a href=\"//azb.wikipedia.org/\" lang=\"azb\" title=\"Türkce\"><bdi dir=\"rtl\">تۆرکجه</bdi></a></li>\n",
      "<li><a href=\"//tr.wikipedia.org/\" lang=\"tr\" title=\"Türkçe\">Türkçe</a></li>\n",
      "<li><a href=\"//ur.wikipedia.org/\" lang=\"ur\" title=\"Urdu\"><bdi dir=\"rtl\">اردو</bdi></a></li>\n",
      "<li><a href=\"//zh-yue.wikipedia.org/\" lang=\"yue\" title=\"Yuht Yúh / Jyut6 jyu5\">粵語</a></li>\n",
      "<li><a href=\"//hy.wikipedia.org/\" lang=\"hy\" title=\"Hayeren\">Հայերեն</a></li>\n",
      "<li><a href=\"//my.wikipedia.org/\" lang=\"my\" title=\"Myanmarsar\">မြန်မာဘာသာ</a></li>\n",
      "</ul>]\n",
      "[<ul>\n",
      "<li><a href=\"//ace.wikipedia.org/\" lang=\"ace\">Bahsa Acèh</a></li>\n",
      "<li><a href=\"//als.wikipedia.org/\" lang=\"gsw\">Alemannisch</a></li>\n",
      "<li><a href=\"//am.wikipedia.org/\" lang=\"am\" title=\"Āmariññā\">አማርኛ</a></li>\n",
      "<li><a href=\"//an.wikipedia.org/\" lang=\"an\">Aragonés</a></li>\n",
      "<li><a href=\"//hyw.wikipedia.org/\" lang=\"hyw\" title=\"Arevmdahayeren\">Արեւմտահայերէն</a></li>\n",
      "<li><a href=\"//ban.wikipedia.org/\" lang=\"ban\" title=\"Basa Bali\">Basa Bali</a></li>\n",
      "<li><a href=\"//bjn.wikipedia.org/\" lang=\"bjn\">Bahasa Banjar</a></li>\n",
      "<li><a href=\"//map-bms.wikipedia.org/\" lang=\"map-x-bms\">Basa Banyumasan</a></li>\n",
      "<li><a href=\"//ba.wikipedia.org/\" lang=\"ba\" title=\"Başqortsa\">Башҡортса</a></li>\n",
      "<li><a href=\"//be-tarask.wikipedia.org/\" lang=\"be\" title=\"Belaruskaya (Taraškievica)\">Беларуская (Тарашкевіца)</a></li>\n",
      "<li><a href=\"//bcl.wikipedia.org/\" lang=\"bcl\">Bikol Central</a></li>\n",
      "<li><a href=\"//bpy.wikipedia.org/\" lang=\"bpy\" title=\"Bishnupriya Manipuri\">বিষ্ণুপ্রিয়া মণিপুরী</a></li>\n",
      "<li><a href=\"//bar.wikipedia.org/\" lang=\"bar\">Boarisch</a></li>\n",
      "<li><a href=\"//bs.wikipedia.org/\" lang=\"bs\">Bosanski</a></li>\n",
      "<li><a href=\"//br.wikipedia.org/\" lang=\"br\">Brezhoneg</a></li>\n",
      "<li><a href=\"//cv.wikipedia.org/\" lang=\"cv\" title=\"Čăvašla\">Чӑвашла</a></li>\n",
      "<li><a href=\"//nv.wikipedia.org/\" lang=\"nv\">Diné Bizaad</a></li>\n",
      "<li><a href=\"//eml.wikipedia.org/\" lang=\"roa-x-eml\">Emigliàn–Rumagnòl</a></li>\n",
      "<li><a href=\"//hif.wikipedia.org/\" lang=\"hif\">Fiji Hindi</a></li>\n",
      "<li><a href=\"//fo.wikipedia.org/\" lang=\"fo\">Føroyskt</a></li>\n",
      "<li><a href=\"//fy.wikipedia.org/\" lang=\"fy\">Frysk</a></li>\n",
      "<li><a href=\"//ga.wikipedia.org/\" lang=\"ga\">Gaeilge</a></li>\n",
      "<li><a href=\"//gd.wikipedia.org/\" lang=\"gd\">Gàidhlig</a></li>\n",
      "<li><a href=\"//gu.wikipedia.org/\" lang=\"gu\" title=\"Gujarati\">ગુજરાતી</a></li>\n",
      "<li><a href=\"//hak.wikipedia.org/\" lang=\"hak\">Hak-kâ-ngî / 客家語</a></li>\n",
      "<li><a href=\"//ha.wikipedia.org/\" lang=\"ha\" title=\"Hausa\">Hausa</a></li>\n",
      "<li><a href=\"//hsb.wikipedia.org/\" lang=\"hsb\">Hornjoserbsce</a></li>\n",
      "<li><a href=\"//io.wikipedia.org/\" lang=\"io\" title=\"Ido\">Ido</a></li>\n",
      "<li><a href=\"//ig.wikipedia.org/\" lang=\"ig\">Igbo</a></li>\n",
      "<li><a href=\"//ilo.wikipedia.org/\" lang=\"ilo\">Ilokano</a></li>\n",
      "<li><a href=\"//ia.wikipedia.org/\" lang=\"ia\">Interlingua</a></li>\n",
      "<li><a href=\"//ie.wikipedia.org/\" lang=\"ie\">Interlingue</a></li>\n",
      "<li><a href=\"//os.wikipedia.org/\" lang=\"os\" title=\"Iron\">Ирон</a></li>\n",
      "<li><a href=\"//is.wikipedia.org/\" lang=\"is\">Íslenska</a></li>\n",
      "<li><a href=\"//jv.wikipedia.org/\" lang=\"jv\" title=\"Jawa\">Jawa</a></li>\n",
      "<li><a href=\"//kn.wikipedia.org/\" lang=\"kn\" title=\"Kannada\">ಕನ್ನಡ</a></li>\n",
      "<li><a href=\"//ht.wikipedia.org/\" lang=\"ht\">Kreyòl Ayisyen</a></li>\n",
      "<li><a href=\"//ku.wikipedia.org/\" lang=\"ku\"><span lang=\"ku-Latn\">Kurdî</span> / <bdi dir=\"rtl\" lang=\"ku-Arab\">كوردی</bdi></a></li>\n",
      "<li><a href=\"//ckb.wikipedia.org/\" lang=\"ckb\" title=\"Kurdîy Nawendî\"><bdi dir=\"rtl\">کوردیی ناوەندی</bdi></a></li>\n",
      "<li><a href=\"//ky.wikipedia.org/\" lang=\"ky\" title=\"Kyrgyzča\">Кыргызча</a></li>\n",
      "<li><a href=\"//mrj.wikipedia.org/\" lang=\"mjr\" title=\"Kyryk Mary\">Кырык мары</a></li>\n",
      "<li><a href=\"//lb.wikipedia.org/\" lang=\"lb\">Lëtzebuergesch</a></li>\n",
      "<li><a href=\"//lij.wikipedia.org/\" lang=\"lij\">Lìgure</a></li>\n",
      "<li><a href=\"//li.wikipedia.org/\" lang=\"li\">Limburgs</a></li>\n",
      "<li><a href=\"//lmo.wikipedia.org/\" lang=\"lmo\">Lombard</a></li>\n",
      "<li><a href=\"//mai.wikipedia.org/\" lang=\"mai\" title=\"Maithilī\">मैथिली</a></li>\n",
      "<li><a href=\"//mg.wikipedia.org/\" lang=\"mg\">Malagasy</a></li>\n",
      "<li><a href=\"//ml.wikipedia.org/\" lang=\"ml\" title=\"Malayalam\">മലയാളം</a></li>\n",
      "<li><a href=\"//zh-classical.wikipedia.org/\" lang=\"lzh\" title=\"Man4jin4 / Wényán\">文言</a></li>\n",
      "<li><a href=\"//mr.wikipedia.org/\" lang=\"mr\" title=\"Marathi\">मराठी</a></li>\n",
      "<li><a href=\"//xmf.wikipedia.org/\" lang=\"xmf\" title=\"Margaluri\">მარგალური</a></li>\n",
      "<li><a href=\"//mzn.wikipedia.org/\" lang=\"mzn\" title=\"Mäzeruni\"><bdi dir=\"rtl\">مازِرونی</bdi></a></li>\n",
      "<li><a href=\"//cdo.wikipedia.org/\" lang=\"cdo\" title=\"Ming-deng-ngu\">Mìng-dĕ̤ng-ngṳ̄ / 閩東語</a></li>\n",
      "<li><a href=\"//mn.wikipedia.org/\" lang=\"mn\" title=\"Mongol\">Монгол</a></li>\n",
      "<li><a href=\"//nap.wikipedia.org/\" lang=\"nap\">Napulitano</a></li>\n",
      "<li><a href=\"//new.wikipedia.org/\" lang=\"new\" title=\"Nepal Bhasa\">नेपाल भाषा</a></li>\n",
      "<li><a href=\"//ne.wikipedia.org/\" lang=\"ne\" title=\"Nepālī\">नेपाली</a></li>\n",
      "<li><a href=\"//frr.wikipedia.org/\" lang=\"frr\">Nordfriisk</a></li>\n",
      "<li><a href=\"//oc.wikipedia.org/\" lang=\"oc\">Occitan</a></li>\n",
      "<li><a href=\"//mhr.wikipedia.org/\" lang=\"mhr\" title=\"Olyk Marij\">Олык марий</a></li>\n",
      "<li><a href=\"//or.wikipedia.org/\" lang=\"or\" title=\"Oṛiā\">ଓଡି଼ଆ</a></li>\n",
      "<li><a href=\"//as.wikipedia.org/\" lang=\"as\" title=\"Ôxômiya\">অসমীযা়</a></li>\n",
      "<li><a href=\"//pa.wikipedia.org/\" lang=\"pa\" title=\"Pañjābī (Gurmukhī)\">ਪੰਜਾਬੀ (ਗੁਰਮੁਖੀ)</a></li>\n",
      "<li><a href=\"//pnb.wikipedia.org/\" lang=\"pnb\" title=\"Pañjābī (Shāhmukhī)\"><bdi dir=\"rtl\">پنجابی (شاہ مکھی)</bdi></a></li>\n",
      "<li><a href=\"//ps.wikipedia.org/\" lang=\"ps\" title=\"Paʂto\"><bdi dir=\"rtl\">پښتو</bdi></a></li>\n",
      "<li><a href=\"//pms.wikipedia.org/\" lang=\"pms\">Piemontèis</a></li>\n",
      "<li><a href=\"//nds.wikipedia.org/\" lang=\"nds\">Plattdüütsch</a></li>\n",
      "<li><a href=\"//crh.wikipedia.org/\" lang=\"crh\">Qırımtatarca</a></li>\n",
      "<li><a href=\"//qu.wikipedia.org/\" lang=\"qu\">Runa Simi</a></li>\n",
      "<li><a href=\"//sa.wikipedia.org/\" lang=\"sa\" title=\"Saṃskṛtam\">संस्कृतम्</a></li>\n",
      "<li><a href=\"//sah.wikipedia.org/\" lang=\"sah\" title=\"Saxa Tyla\">Саха Тыла</a></li>\n",
      "<li><a href=\"//sco.wikipedia.org/\" lang=\"sco\">Scots</a></li>\n",
      "<li><a href=\"//sn.wikipedia.org/\" lang=\"sn\">ChiShona</a></li>\n",
      "<li><a href=\"//sq.wikipedia.org/\" lang=\"sq\">Shqip</a></li>\n",
      "<li><a href=\"//scn.wikipedia.org/\" lang=\"scn\">Sicilianu</a></li>\n",
      "<li><a href=\"//si.wikipedia.org/\" lang=\"si\" title=\"Siṃhala\">සිංහල</a></li>\n",
      "<li><a href=\"//sd.wikipedia.org/\" lang=\"sd\" title=\"Sindhī\"><bdi dir=\"rtl\">سنڌي</bdi></a></li>\n",
      "<li><a href=\"//szl.wikipedia.org/\" lang=\"szl\">Ślůnski</a></li>\n",
      "<li><a href=\"//su.wikipedia.org/\" lang=\"su\">Basa Sunda</a></li>\n",
      "<li><a href=\"//sw.wikipedia.org/\" lang=\"sw\">Kiswahili</a></li>\n",
      "<li><a href=\"//tl.wikipedia.org/\" lang=\"tl\">Tagalog</a></li>\n",
      "<li><a href=\"//shn.wikipedia.org/\" lang=\"shn\">ၽႃႇသႃႇတႆး</a></li>\n",
      "<li><a href=\"//te.wikipedia.org/\" lang=\"te\" title=\"Telugu\">తెలుగు</a></li>\n",
      "<li><a href=\"//bug.wikipedia.org/\" lang=\"bug\">ᨅᨔ ᨕᨙᨁᨗ / Basa Ugi</a></li>\n",
      "<li><a href=\"//vec.wikipedia.org/\" lang=\"vec\">Vèneto</a></li>\n",
      "<li><a href=\"//vo.wikipedia.org/\" lang=\"vo\">Volapük</a></li>\n",
      "<li><a href=\"//wa.wikipedia.org/\" lang=\"wa\">Walon</a></li>\n",
      "<li><a href=\"//wuu.wikipedia.org/\" lang=\"wuu\" title=\"Wúyǔ\">吴语</a></li>\n",
      "<li><a href=\"//yi.wikipedia.org/\" lang=\"yi\" title=\"Yidiš\"><bdi dir=\"rtl\">ייִדיש</bdi></a></li>\n",
      "<li><a href=\"//yo.wikipedia.org/\" lang=\"yo\">Yorùbá</a></li>\n",
      "<li><a href=\"//diq.wikipedia.org/\" lang=\"diq\" title=\"Zazaki\">Zazaki</a></li>\n",
      "<li><a href=\"//bat-smg.wikipedia.org/\" lang=\"sgs\">Žemaitėška</a></li>\n",
      "<li><a href=\"//zu.wikipedia.org/\" lang=\"zu\">isiZulu</a></li>\n",
      "</ul>]\n",
      "[<ul>\n",
      "<li><a href=\"//lad.wikipedia.org/\" lang=\"lad\"><span lang=\"lad-Latn\">Dzhudezmo</span> / <bdi dir=\"rtl\" lang=\"lad-Hebr\">לאדינו</bdi></a></li>\n",
      "<li><a href=\"//kbd.wikipedia.org/\" lang=\"kbd\" title=\"Adighabze\">Адыгэбзэ</a></li>\n",
      "<li><a href=\"//ang.wikipedia.org/\" lang=\"ang\">Ænglisc</a></li>\n",
      "<li><a href=\"//smn.wikipedia.org/\" lang=\"smn\" title=\"anarâškielâ\">Anarâškielâ</a></li>\n",
      "<li><a href=\"//ab.wikipedia.org/\" lang=\"ab\" title=\"aṗsshwa\">аԥсшәа</a></li>\n",
      "<li><a href=\"//roa-rup.wikipedia.org/\" lang=\"roa-rup\">Armãneashce</a></li>\n",
      "<li><a href=\"//frp.wikipedia.org/\" lang=\"frp\">Arpitan</a></li>\n",
      "<li><a href=\"//arc.wikipedia.org/\" lang=\"arc\" title=\"Ātûrāyâ\"><bdi dir=\"rtl\">ܐܬܘܪܝܐ</bdi></a></li>\n",
      "<li><a href=\"//gn.wikipedia.org/\" lang=\"gn\">Avañe’ẽ</a></li>\n",
      "<li><a href=\"//av.wikipedia.org/\" lang=\"av\" title=\"Avar\">Авар</a></li>\n",
      "<li><a href=\"//ay.wikipedia.org/\" lang=\"ay\">Aymar</a></li>\n",
      "<li><a href=\"//bh.wikipedia.org/\" lang=\"bh\" title=\"Bhōjapurī\">भोजपुरी</a></li>\n",
      "<li><a href=\"//bi.wikipedia.org/\" lang=\"bi\">Bislama</a></li>\n",
      "<li><a href=\"//bo.wikipedia.org/\" lang=\"bo\" title=\"Bod Skad\">བོད་ཡིག</a></li>\n",
      "<li><a href=\"//bxr.wikipedia.org/\" lang=\"bxr\" title=\"Buryad\">Буряад</a></li>\n",
      "<li><a href=\"//cbk-zam.wikipedia.org/\" lang=\"cbk-x-zam\">Chavacano de Zamboanga</a></li>\n",
      "<li><a href=\"//ny.wikipedia.org/\" lang=\"ny\">Chichewa</a></li>\n",
      "<li><a href=\"//co.wikipedia.org/\" lang=\"co\">Corsu</a></li>\n",
      "<li><a href=\"//za.wikipedia.org/\" lang=\"za\">Vahcuengh / 話僮</a></li>\n",
      "<li><a href=\"//dag.wikipedia.org/\" lang=\"dag\">Dagbanli</a></li>\n",
      "<li><a href=\"//ary.wikipedia.org/\" lang=\"ary\" title=\"Darija\"><bdi dir=\"rtl\">الدارجة</bdi></a></li>\n",
      "<li><a href=\"//se.wikipedia.org/\" lang=\"se\" title=\"davvisámegiella\">Davvisámegiella</a></li>\n",
      "<li><a href=\"//pdc.wikipedia.org/\" lang=\"pdc\">Deitsch</a></li>\n",
      "<li><a href=\"//dv.wikipedia.org/\" lang=\"dv\" title=\"Divehi\"><bdi dir=\"rtl\">ދިވެހިބަސް</bdi></a></li>\n",
      "<li><a href=\"//dsb.wikipedia.org/\" lang=\"dsb\">Dolnoserbski</a></li>\n",
      "<li><a href=\"//myv.wikipedia.org/\" lang=\"myv\" title=\"Erzjanj\">Эрзянь</a></li>\n",
      "<li><a href=\"//ext.wikipedia.org/\" lang=\"ext\">Estremeñu</a></li>\n",
      "<li><a href=\"//fur.wikipedia.org/\" lang=\"fur\">Furlan</a></li>\n",
      "<li><a href=\"//gv.wikipedia.org/\" lang=\"gv\">Gaelg</a></li>\n",
      "<li><a href=\"//gag.wikipedia.org/\" lang=\"gag\">Gagauz</a></li>\n",
      "<li><a href=\"//inh.wikipedia.org/\" lang=\"inh\" title=\"Ghalghai\">ГӀалгӀай</a></li>\n",
      "<li><a href=\"//ki.wikipedia.org/\" lang=\"ki\">Gĩkũyũ</a></li>\n",
      "<li><a href=\"//glk.wikipedia.org/\" lang=\"glk\" title=\"Giləki\"><bdi dir=\"rtl\">گیلکی</bdi></a></li>\n",
      "<li><a class=\"jscnconv\" data-hans=\"赣语\" data-hant=\"贛語\" href=\"//gan.wikipedia.org/\" lang=\"gan\" title=\"Gon ua\">赣语 / 贛語</a></li>\n",
      "<li><a href=\"//guw.wikipedia.org/\" lang=\"guw\">Gungbe</a></li>\n",
      "<li><a href=\"//xal.wikipedia.org/\" lang=\"xal\" title=\"Halʹmg\">Хальмг</a></li>\n",
      "<li><a href=\"//haw.wikipedia.org/\" lang=\"haw\">ʻŌlelo Hawaiʻi</a></li>\n",
      "<li><a href=\"//rw.wikipedia.org/\" lang=\"rw\">Ikinyarwanda</a></li>\n",
      "<li><a href=\"//kbp.wikipedia.org/\" lang=\"kbp\">Kabɩyɛ</a></li>\n",
      "<li><a href=\"//pam.wikipedia.org/\" lang=\"pam\">Kapampangan</a></li>\n",
      "<li><a href=\"//csb.wikipedia.org/\" lang=\"csb\">Kaszëbsczi</a></li>\n",
      "<li><a href=\"//kw.wikipedia.org/\" lang=\"kw\">Kernewek</a></li>\n",
      "<li><a href=\"//km.wikipedia.org/\" lang=\"km\" title=\"Phéasa Khmér\">ភាសាខ្មែរ</a></li>\n",
      "<li><a href=\"//kv.wikipedia.org/\" lang=\"kv\" title=\"Komi\">Коми</a></li>\n",
      "<li><a href=\"//koi.wikipedia.org/\" lang=\"koi\" title=\"Perem Komi\">Перем коми</a></li>\n",
      "<li><a href=\"//kg.wikipedia.org/\" lang=\"kg\">Kongo</a></li>\n",
      "<li><a href=\"//gom.wikipedia.org/\" lang=\"gom\">कोंकणी / Konknni</a></li>\n",
      "<li><a href=\"//ks.wikipedia.org/\" lang=\"ks\" title=\"Koshur\"><bdi dir=\"rtl\">كٲشُر</bdi></a></li>\n",
      "<li><a href=\"//gcr.wikipedia.org/\" lang=\"gcr\" title=\"Kriyòl Gwiyannen\">Kriyòl Gwiyannen</a></li>\n",
      "<li><a href=\"//lo.wikipedia.org/\" lang=\"lo\" title=\"Phaasaa Laao\">ພາສາລາວ</a></li>\n",
      "<li><a href=\"//lbe.wikipedia.org/\" lang=\"lbe\" title=\"Lakku\">Лакку</a></li>\n",
      "<li><a href=\"//ltg.wikipedia.org/\" lang=\"ltg\">Latgaļu</a></li>\n",
      "<li><a href=\"//lez.wikipedia.org/\" lang=\"lez\" title=\"Lezgi\">Лезги</a></li>\n",
      "<li><a href=\"//nia.wikipedia.org/\" lang=\"nia\">Li Niha</a></li>\n",
      "<li><a href=\"//ln.wikipedia.org/\" lang=\"ln\">Lingála</a></li>\n",
      "<li><a href=\"//jbo.wikipedia.org/\" lang=\"jbo\">lojban</a></li>\n",
      "<li><a href=\"//lg.wikipedia.org/\" lang=\"lg\">Luganda</a></li>\n",
      "<li><a href=\"//mt.wikipedia.org/\" lang=\"mt\">Malti</a></li>\n",
      "<li><a href=\"//mi.wikipedia.org/\" lang=\"mi\">Māori</a></li>\n",
      "<li><a href=\"//tw.wikipedia.org/\" lang=\"tw\" title=\"Mfantse\">Twi</a></li>\n",
      "<li><a href=\"//mwl.wikipedia.org/\" lang=\"mwl\">Mirandés</a></li>\n",
      "<li><a href=\"//mdf.wikipedia.org/\" lang=\"mdf\" title=\"Mokšenj\">Мокшень</a></li>\n",
      "<li><a href=\"//mnw.wikipedia.org/\" lang=\"mnw\">ဘာသာ မန်</a></li>\n",
      "<li><a href=\"//nqo.wikipedia.org/\" lang=\"nqo\" title=\"N'Ko\">ߒߞߏ</a></li>\n",
      "<li><a href=\"//fj.wikipedia.org/\" lang=\"fj\">Na Vosa Vaka-Viti</a></li>\n",
      "<li><a href=\"//nah.wikipedia.org/\" lang=\"nah\">Nāhuatlahtōlli</a></li>\n",
      "<li><a href=\"//na.wikipedia.org/\" lang=\"na\">Dorerin Naoero</a></li>\n",
      "<li><a href=\"//nds-nl.wikipedia.org/\" lang=\"nds-nl\">Nedersaksisch</a></li>\n",
      "<li><a href=\"//nrm.wikipedia.org/\" lang=\"roa-x-nrm\">Nouormand / Normaund</a></li>\n",
      "<li><a href=\"//nov.wikipedia.org/\" lang=\"nov\">Novial</a></li>\n",
      "<li><a href=\"//om.wikipedia.org/\" lang=\"om\" title=\"Ingiliffaa\">Afaan Oromoo</a></li>\n",
      "<li><a href=\"//blk.wikipedia.org/\" lang=\"blk\">ပအိုဝ်ႏဘာႏသာႏ</a></li>\n",
      "<li><a href=\"//pi.wikipedia.org/\" lang=\"pi\" title=\"Pāḷi\">पालि</a></li>\n",
      "<li><a href=\"//pag.wikipedia.org/\" lang=\"pag\">Pangasinán</a></li>\n",
      "<li><a href=\"//pap.wikipedia.org/\" lang=\"pap\">Papiamentu</a></li>\n",
      "<li><a href=\"//pfl.wikipedia.org/\" lang=\"pfl\">Pfälzisch</a></li>\n",
      "<li><a href=\"//pcd.wikipedia.org/\" lang=\"pcd\">Picard</a></li>\n",
      "<li><a href=\"//krc.wikipedia.org/\" lang=\"krc\" title=\"Qaraçay–Malqar\">Къарачай–малкъар</a></li>\n",
      "<li><a href=\"//kaa.wikipedia.org/\" lang=\"kaa\">Qaraqalpaqsha</a></li>\n",
      "<li><a href=\"//ksh.wikipedia.org/\" lang=\"ksh\">Ripoarisch</a></li>\n",
      "<li><a href=\"//rm.wikipedia.org/\" lang=\"rm\">Rumantsch</a></li>\n",
      "<li><a href=\"//rue.wikipedia.org/\" lang=\"rue\" title=\"Rusin’skyj\">Русиньскый</a></li>\n",
      "<li><a href=\"//sm.wikipedia.org/\" lang=\"sm\">Gagana Sāmoa</a></li>\n",
      "<li><a href=\"//sat.wikipedia.org/\" lang=\"sat\" title=\"Santali\">ᱥᱟᱱᱛᱟᱲᱤ</a></li>\n",
      "<li><a href=\"//skr.wikipedia.org/\" lang=\"skr\" title=\"Saraiki\">سرائیکی</a></li>\n",
      "<li><a href=\"//sc.wikipedia.org/\" lang=\"sc\" title=\"Sardu\">Sardu</a></li>\n",
      "<li><a href=\"//trv.wikipedia.org/\" lang=\"trv\">Seediq</a></li>\n",
      "<li><a href=\"//stq.wikipedia.org/\" lang=\"stq\">Seeltersk</a></li>\n",
      "<li><a href=\"//nso.wikipedia.org/\" lang=\"nso\">Sesotho sa Leboa</a></li>\n",
      "<li><a href=\"//tn.wikipedia.org/\" lang=\"tn\">Setswana</a></li>\n",
      "<li><a href=\"//cu.wikipedia.org/\" lang=\"cu\" title=\"Slověnĭskŭ\">Словѣ́ньскъ / ⰔⰎⰑⰂⰡⰐⰠⰔⰍⰟ</a></li>\n",
      "<li><a href=\"//so.wikipedia.org/\" lang=\"so\">Soomaaliga</a></li>\n",
      "<li><a href=\"//srn.wikipedia.org/\" lang=\"srn\">Sranantongo</a></li>\n",
      "<li><a href=\"//kab.wikipedia.org/\" lang=\"kab\" title=\"Taqbaylit\">Taqbaylit</a></li>\n",
      "<li><a href=\"//roa-tara.wikipedia.org/\" lang=\"roa\">Tarandíne</a></li>\n",
      "<li><a href=\"//tet.wikipedia.org/\" lang=\"tet\">Tetun</a></li>\n",
      "<li><a href=\"//tpi.wikipedia.org/\" lang=\"tpi\">Tok Pisin</a></li>\n",
      "<li><a href=\"//to.wikipedia.org/\" lang=\"to\">faka Tonga</a></li>\n",
      "<li><a href=\"//chr.wikipedia.org/\" lang=\"chr\" title=\"Tsalagi\">ᏣᎳᎩ</a></li>\n",
      "<li><a href=\"//tum.wikipedia.org/\" lang=\"tum\">chiTumbuka</a></li>\n",
      "<li><a href=\"//tk.wikipedia.org/\" lang=\"tk\">Türkmençe</a></li>\n",
      "<li><a href=\"//tyv.wikipedia.org/\" lang=\"tyv\" title=\"Tyva dyl\">Тыва дыл</a></li>\n",
      "<li><a href=\"//udm.wikipedia.org/\" lang=\"udm\" title=\"Udmurt\">Удмурт</a></li>\n",
      "<li><a href=\"//ug.wikipedia.org/\" lang=\"ug\"><bdi dir=\"rtl\">ئۇيغۇرچه</bdi></a></li>\n",
      "<li><a href=\"//vep.wikipedia.org/\" lang=\"vep\">Vepsän</a></li>\n",
      "<li><a href=\"//fiu-vro.wikipedia.org/\" lang=\"fiu-vro\">Võro</a></li>\n",
      "<li><a href=\"//vls.wikipedia.org/\" lang=\"vls\">West-Vlams</a></li>\n",
      "<li><a href=\"//wo.wikipedia.org/\" lang=\"wo\">Wolof</a></li>\n",
      "<li><a href=\"//xh.wikipedia.org/\" lang=\"xh\">isiXhosa</a></li>\n",
      "<li><a href=\"//zea.wikipedia.org/\" lang=\"zea\">Zeêuws</a></li>\n",
      "<li><a href=\"//ty.wikipedia.org/\" lang=\"ty\">Reo tahiti</a></li>\n",
      "</ul>]\n",
      "[<ul>\n",
      "<li><a href=\"//ak.wikipedia.org/\" lang=\"ak\">Akan</a></li>\n",
      "<li><a href=\"//bm.wikipedia.org/\" lang=\"bm\">Bamanankan</a></li>\n",
      "<li><a href=\"//ch.wikipedia.org/\" lang=\"ch\">Chamoru</a></li>\n",
      "<li><a href=\"//ee.wikipedia.org/\" lang=\"ee\">Eʋegbe</a></li>\n",
      "<li><a href=\"//ff.wikipedia.org/\" lang=\"ff\">Fulfulde</a></li>\n",
      "<li><a href=\"//got.wikipedia.org/\" lang=\"got\" title=\"Gutisk\">𐌲𐌿𐍄𐌹𐍃𐌺</a></li>\n",
      "<li><a href=\"//iu.wikipedia.org/\" lang=\"iu\">ᐃᓄᒃᑎᑐᑦ / Inuktitut</a></li>\n",
      "<li><a href=\"//ik.wikipedia.org/\" lang=\"ik\">Iñupiak</a></li>\n",
      "<li><a href=\"//kl.wikipedia.org/\" lang=\"kl\">Kalaallisut</a></li>\n",
      "<li><a href=\"//mad.wikipedia.org/\" lang=\"mad\">Madhurâ</a></li>\n",
      "<li><a href=\"//cr.wikipedia.org/\" lang=\"cr\">Nēhiyawēwin / ᓀᐦᐃᔭᐍᐏᐣ</a></li>\n",
      "<li><a href=\"//pih.wikipedia.org/\" lang=\"pih\">Norfuk / Pitkern</a></li>\n",
      "<li><a href=\"//ami.wikipedia.org/\" lang=\"ami\">Pangcah</a></li>\n",
      "<li><a href=\"//pwn.wikipedia.org/\" lang=\"pwn\">pinayuanan</a></li>\n",
      "<li><a href=\"//pnt.wikipedia.org/\" lang=\"pnt\" title=\"Pontiaká\">Ποντιακά</a></li>\n",
      "<li><a href=\"//dz.wikipedia.org/\" lang=\"dz\" title=\"Rdzong-Kha\">རྫོང་ཁ</a></li>\n",
      "<li><a href=\"//rmy.wikipedia.org/\" lang=\"rmy\">romani čhib</a></li>\n",
      "<li><a href=\"//rn.wikipedia.org/\" lang=\"rn\">Ikirundi</a></li>\n",
      "<li><a href=\"//sg.wikipedia.org/\" lang=\"sg\">Sängö</a></li>\n",
      "<li><a href=\"//st.wikipedia.org/\" lang=\"st\">Sesotho</a></li>\n",
      "<li><a href=\"//ss.wikipedia.org/\" lang=\"ss\">SiSwati</a></li>\n",
      "<li><a href=\"//ti.wikipedia.org/\" lang=\"ti\" title=\"Təgərəña\">ትግርኛ</a></li>\n",
      "<li><a href=\"//din.wikipedia.org/\" lang=\"din\">Thuɔŋjäŋ</a></li>\n",
      "<li><a href=\"//chy.wikipedia.org/\" lang=\"chy\">Tsėhesenėstsestotse</a></li>\n",
      "<li><a href=\"//ts.wikipedia.org/\" lang=\"ts\">Xitsonga</a></li>\n",
      "<li><a href=\"//kcg.wikipedia.org/\" lang=\"kcg\">Tyap</a></li>\n",
      "<li><a href=\"//ve.wikipedia.org/\" lang=\"ve\">Tshivenḓa</a></li>\n",
      "</ul>]\n"
     ]
    }
   ],
   "source": [
    "#1M #js-lang-lists > div:nth-child(2) > ul\n",
    "print(soup4.select('#js-lang-lists > div:nth-child(2) > ul'))\n",
    "#100k\n",
    "print(soup4.select('#js-lang-lists > div:nth-child(4) > ul'))\n",
    "#10k\n",
    "print(soup4.select('#js-lang-lists > div:nth-child(6) > ul'))\n",
    "#1k\n",
    "print(soup4.select('#js-lang-lists > div:nth-child(8) > ul'))\n",
    "#<1k\n",
    "print(soup4.select('#js-lang-lists > div.langlist.langlist-tiny.hlist > ul'))"
   ]
  },
  {
   "cell_type": "code",
   "execution_count": 30,
   "id": "3a560c53",
   "metadata": {},
   "outputs": [
    {
     "name": "stdout",
     "output_type": "stream",
     "text": [
      "['\\nPolski\\nالعربية\\nDeutsch\\nEnglish\\nEspañol\\nFrançais\\nItaliano\\nمصرى\\nNederlands\\n日本語\\nPortuguês\\nSinugboanong Binisaya\\nSvenska\\nУкраїнська\\nTiếng Việt\\nWinaray\\n中文\\nРусский\\n']\n",
      "['\\nAfrikaans\\nAsturianu\\nAzərbaycanca\\nБългарски\\nBân-lâm-gú / Hō-ló-oē\\nবাংলা\\nБеларуская\\nCatalà\\nČeština\\nCymraeg\\nDansk\\nEesti\\nΕλληνικά\\nEsperanto\\nEuskara\\nفارسی\\nGalego\\n한국어\\nहिन्दी\\nHrvatski\\nBahasa Indonesia\\nעברית\\nქართული\\nLatina\\nLatviešu\\nLietuvių\\nMagyar\\nМакедонски\\nBahasa Melayu\\nBahaso Minangkabau\\nNorskbokmålnynorsk\\nНохчийн\\nOʻzbekcha / Ўзбекча\\nҚазақша / Qazaqşa / قازاقشا\\nRomână\\nSimple English\\nSlovenčina\\nSlovenščina\\nСрпски / Srpski\\nSrpskohrvatski / Српскохрватски\\nSuomi\\nதமிழ்\\nТатарча / Tatarça\\nภาษาไทย\\nТоҷикӣ\\nتۆرکجه\\nTürkçe\\nاردو\\n粵語\\nՀայերեն\\nမြန်မာဘာသာ\\n']\n",
      "['\\nBahsa Acèh\\nAlemannisch\\nአማርኛ\\nAragonés\\nԱրեւմտահայերէն\\nBasa Bali\\nBahasa Banjar\\nBasa Banyumasan\\nБашҡортса\\nБеларуская (Тарашкевіца)\\nBikol Central\\nবিষ্ণুপ্রিয়া মণিপুরী\\nBoarisch\\nBosanski\\nBrezhoneg\\nЧӑвашла\\nDiné Bizaad\\nEmigliàn–Rumagnòl\\nFiji Hindi\\nFøroyskt\\nFrysk\\nGaeilge\\nGàidhlig\\nગુજરાતી\\nHak-kâ-ngî / 客家語\\nHausa\\nHornjoserbsce\\nIdo\\nIgbo\\nIlokano\\nInterlingua\\nInterlingue\\nИрон\\nÍslenska\\nJawa\\nಕನ್ನಡ\\nKreyòl Ayisyen\\nKurdî / كوردی\\nکوردیی ناوەندی\\nКыргызча\\nКырык мары\\nLëtzebuergesch\\nLìgure\\nLimburgs\\nLombard\\nमैथिली\\nMalagasy\\nമലയാളം\\n文言\\nमराठी\\nმარგალური\\nمازِرونی\\nMìng-dĕ̤ng-ngṳ̄ / 閩東語\\nМонгол\\nNapulitano\\nनेपाल भाषा\\nनेपाली\\nNordfriisk\\nOccitan\\nОлык марий\\nଓଡି଼ଆ\\nঅসমীযা়\\nਪੰਜਾਬੀ (ਗੁਰਮੁਖੀ)\\nپنجابی (شاہ مکھی)\\nپښتو\\nPiemontèis\\nPlattdüütsch\\nQırımtatarca\\nRuna Simi\\nसंस्कृतम्\\nСаха Тыла\\nScots\\nChiShona\\nShqip\\nSicilianu\\nසිංහල\\nسنڌي\\nŚlůnski\\nBasa Sunda\\nKiswahili\\nTagalog\\nၽႃႇသႃႇတႆး\\nతెలుగు\\nᨅᨔ ᨕᨙᨁᨗ / Basa Ugi\\nVèneto\\nVolapük\\nWalon\\n吴语\\nייִדיש\\nYorùbá\\nZazaki\\nŽemaitėška\\nisiZulu\\n']\n",
      "['\\nDzhudezmo / לאדינו\\nАдыгэбзэ\\nÆnglisc\\nAnarâškielâ\\nаԥсшәа\\nArmãneashce\\nArpitan\\nܐܬܘܪܝܐ\\nAvañe’ẽ\\nАвар\\nAymar\\nभोजपुरी\\nBislama\\nབོད་ཡིག\\nБуряад\\nChavacano de Zamboanga\\nChichewa\\nCorsu\\nVahcuengh / 話僮\\nDagbanli\\nالدارجة\\nDavvisámegiella\\nDeitsch\\nދިވެހިބަސް\\nDolnoserbski\\nЭрзянь\\nEstremeñu\\nFurlan\\nGaelg\\nGagauz\\nГӀалгӀай\\nGĩkũyũ\\nگیلکی\\n赣语 / 贛語\\nGungbe\\nХальмг\\nʻŌlelo Hawaiʻi\\nIkinyarwanda\\nKabɩyɛ\\nKapampangan\\nKaszëbsczi\\nKernewek\\nភាសាខ្មែរ\\nКоми\\nПерем коми\\nKongo\\nकोंकणी / Konknni\\nكٲشُر\\nKriyòl Gwiyannen\\nພາສາລາວ\\nЛакку\\nLatgaļu\\nЛезги\\nLi Niha\\nLingála\\nlojban\\nLuganda\\nMalti\\nMāori\\nTwi\\nMirandés\\nМокшень\\nဘာသာ မန်\\nߒߞߏ\\nNa Vosa Vaka-Viti\\nNāhuatlahtōlli\\nDorerin Naoero\\nNedersaksisch\\nNouormand / Normaund\\nNovial\\nAfaan Oromoo\\nပအိုဝ်ႏဘာႏသာႏ\\nपालि\\nPangasinán\\nPapiamentu\\nPfälzisch\\nPicard\\nКъарачай–малкъар\\nQaraqalpaqsha\\nRipoarisch\\nRumantsch\\nРусиньскый\\nGagana Sāmoa\\nᱥᱟᱱᱛᱟᱲᱤ\\nسرائیکی\\nSardu\\nSeediq\\nSeeltersk\\nSesotho sa Leboa\\nSetswana\\nСловѣ́ньскъ / ⰔⰎⰑⰂⰡⰐⰠⰔⰍⰟ\\nSoomaaliga\\nSranantongo\\nTaqbaylit\\nTarandíne\\nTetun\\nTok Pisin\\nfaka Tonga\\nᏣᎳᎩ\\nchiTumbuka\\nTürkmençe\\nТыва дыл\\nУдмурт\\nئۇيغۇرچه\\nVepsän\\nVõro\\nWest-Vlams\\nWolof\\nisiXhosa\\nZeêuws\\nReo tahiti\\n']\n",
      "['\\nAkan\\nBamanankan\\nChamoru\\nEʋegbe\\nFulfulde\\n𐌲𐌿𐍄𐌹𐍃𐌺\\nᐃᓄᒃᑎᑐᑦ / Inuktitut\\nIñupiak\\nKalaallisut\\nMadhurâ\\nNēhiyawēwin / ᓀᐦᐃᔭᐍᐏᐣ\\nNorfuk / Pitkern\\nPangcah\\npinayuanan\\nΠοντιακά\\nརྫོང་ཁ\\nromani čhib\\nIkirundi\\nSängö\\nSesotho\\nSiSwati\\nትግርኛ\\nThuɔŋjäŋ\\nTsėhesenėstsestotse\\nXitsonga\\nTyap\\nTshivenḓa\\n']\n"
     ]
    }
   ],
   "source": [
    "over_1M_language = []\n",
    "over_100k_language = []\n",
    "over_10k_language = []\n",
    "over_1k_language = []\n",
    "under_1k_language = []\n",
    "\n",
    "num_iter1 = len(soup4.select('#js-lang-lists > div:nth-child(2) > ul'))\n",
    "num_iter2 = len(soup4.select('#js-lang-lists > div:nth-child(4) > ul'))\n",
    "num_iter3 = len(soup4.select('#js-lang-lists > div:nth-child(6) > ul'))\n",
    "num_iter4 = len(soup4.select('#js-lang-lists > div:nth-child(8) > ul'))\n",
    "num_iter5 = len(soup4.select('#js-lang-lists > div.langlist.langlist-tiny.hlist > ul'))\n",
    "\n",
    "lang1 = soup4.select('#js-lang-lists > div:nth-child(2) > ul')\n",
    "lang2 = soup4.select('#js-lang-lists > div:nth-child(4) > ul')\n",
    "lang3 = soup4.select('#js-lang-lists > div:nth-child(6) > ul')\n",
    "lang4 = soup4.select('#js-lang-lists > div:nth-child(8) > ul')\n",
    "lang5 = soup4.select('#js-lang-lists > div.langlist.langlist-tiny.hlist > ul')\n",
    "\n",
    "for i in range(num_iter1):\n",
    "    over_1M_language.append(lang1[i].get_text())\n",
    "    \n",
    "for i in range(num_iter2):\n",
    "    over_100k_language.append(lang2[i].get_text())\n",
    "    \n",
    "for i in range(num_iter3):\n",
    "    over_10k_language.append(lang3[i].get_text())\n",
    "    \n",
    "for i in range(num_iter4):\n",
    "    over_1k_language.append(lang4[i].get_text())\n",
    "    \n",
    "for i in range(num_iter5):\n",
    "    under_1k_language.append(lang5[i].get_text())\n",
    "    \n",
    "print(over_1M_language)\n",
    "print(over_100k_language)\n",
    "print(over_10k_language)\n",
    "print(over_1k_language)\n",
    "print(under_1k_language)"
   ]
  },
  {
   "cell_type": "code",
   "execution_count": 31,
   "id": "3beb604e",
   "metadata": {},
   "outputs": [
    {
     "name": "stdout",
     "output_type": "stream",
     "text": [
      "['', 'Polski', 'العربية', 'Deutsch', 'English', 'Español', 'Français', 'Italiano', 'مصرى', 'Nederlands', '日本語', 'Português', 'Sinugboanong Binisaya', 'Svenska', 'Українська', 'Tiếng Việt', 'Winaray', '中文', 'Русский', '']\n"
     ]
    }
   ],
   "source": [
    "for i in over_1M_language:\n",
    "    one_mill = i.split(\"\\n\")\n",
    "    \n",
    "print(one_mill)"
   ]
  },
  {
   "cell_type": "code",
   "execution_count": 40,
   "id": "a9174a38",
   "metadata": {},
   "outputs": [
    {
     "name": "stdout",
     "output_type": "stream",
     "text": [
      "['', 'Afrikaans', 'Asturianu', 'Azərbaycanca', 'Български', 'Bân-lâm-gú / Hō-ló-oē', 'বাংলা', 'Беларуская', 'Català', 'Čeština', 'Cymraeg', 'Dansk', 'Eesti', 'Ελληνικά', 'Esperanto', 'Euskara', 'فارسی', 'Galego', '한국어', 'हिन्दी', 'Hrvatski', 'Bahasa Indonesia', 'עברית', 'ქართული', 'Latina', 'Latviešu', 'Lietuvių', 'Magyar', 'Македонски', 'Bahasa Melayu', 'Bahaso Minangkabau', 'Norskbokmålnynorsk', 'Нохчийн', 'Oʻzbekcha / Ўзбекча', 'Қазақша / Qazaqşa / قازاقشا', 'Română', 'Simple English', 'Slovenčina', 'Slovenščina', 'Српски / Srpski', 'Srpskohrvatski / Српскохрватски', 'Suomi', 'தமிழ்', 'Татарча / Tatarça', 'ภาษาไทย', 'Тоҷикӣ', 'تۆرکجه', 'Türkçe', 'اردو', '粵語', 'Հայերեն', 'မြန်မာဘာသာ', '']\n"
     ]
    }
   ],
   "source": [
    "for i in over_100k_language:\n",
    "    hundred_k = i.split(\"\\n\")\n",
    "    \n",
    "print(hundred_k)"
   ]
  },
  {
   "cell_type": "code",
   "execution_count": 36,
   "id": "60170f6e",
   "metadata": {},
   "outputs": [
    {
     "name": "stdout",
     "output_type": "stream",
     "text": [
      "['', 'Bahsa Acèh', 'Alemannisch', 'አማርኛ', 'Aragonés', 'Արեւմտահայերէն', 'Basa Bali', 'Bahasa Banjar', 'Basa Banyumasan', 'Башҡортса', 'Беларуская (Тарашкевіца)', 'Bikol Central', 'বিষ্ণুপ্রিয়া মণিপুরী', 'Boarisch', 'Bosanski', 'Brezhoneg', 'Чӑвашла', 'Diné Bizaad', 'Emigliàn–Rumagnòl', 'Fiji Hindi', 'Føroyskt', 'Frysk', 'Gaeilge', 'Gàidhlig', 'ગુજરાતી', 'Hak-kâ-ngî / 客家語', 'Hausa', 'Hornjoserbsce', 'Ido', 'Igbo', 'Ilokano', 'Interlingua', 'Interlingue', 'Ирон', 'Íslenska', 'Jawa', 'ಕನ್ನಡ', 'Kreyòl Ayisyen', 'Kurdî / كوردی', 'کوردیی ناوەندی', 'Кыргызча', 'Кырык мары', 'Lëtzebuergesch', 'Lìgure', 'Limburgs', 'Lombard', 'मैथिली', 'Malagasy', 'മലയാളം', '文言', 'मराठी', 'მარგალური', 'مازِرونی', 'Mìng-dĕ̤ng-ngṳ̄ / 閩東語', 'Монгол', 'Napulitano', 'नेपाल भाषा', 'नेपाली', 'Nordfriisk', 'Occitan', 'Олык марий', 'ଓଡି଼ଆ', 'অসমীযা়', 'ਪੰਜਾਬੀ (ਗੁਰਮੁਖੀ)', 'پنجابی (شاہ مکھی)', 'پښتو', 'Piemontèis', 'Plattdüütsch', 'Qırımtatarca', 'Runa Simi', 'संस्कृतम्', 'Саха Тыла', 'Scots', 'ChiShona', 'Shqip', 'Sicilianu', 'සිංහල', 'سنڌي', 'Ślůnski', 'Basa Sunda', 'Kiswahili', 'Tagalog', 'ၽႃႇသႃႇတႆး', 'తెలుగు', 'ᨅᨔ ᨕᨙᨁᨗ / Basa Ugi', 'Vèneto', 'Volapük', 'Walon', '吴语', 'ייִדיש', 'Yorùbá', 'Zazaki', 'Žemaitėška', 'isiZulu', '']\n"
     ]
    }
   ],
   "source": [
    "for i in over_10k_language:\n",
    "    ten_k = i.split(\"\\n\")\n",
    "    \n",
    "print(ten_k)"
   ]
  },
  {
   "cell_type": "code",
   "execution_count": 37,
   "id": "e443f1d8",
   "metadata": {},
   "outputs": [
    {
     "name": "stdout",
     "output_type": "stream",
     "text": [
      "['', 'Dzhudezmo / לאדינו', 'Адыгэбзэ', 'Ænglisc', 'Anarâškielâ', 'аԥсшәа', 'Armãneashce', 'Arpitan', 'ܐܬܘܪܝܐ', 'Avañe’ẽ', 'Авар', 'Aymar', 'भोजपुरी', 'Bislama', 'བོད་ཡིག', 'Буряад', 'Chavacano de Zamboanga', 'Chichewa', 'Corsu', 'Vahcuengh / 話僮', 'Dagbanli', 'الدارجة', 'Davvisámegiella', 'Deitsch', 'ދިވެހިބަސް', 'Dolnoserbski', 'Эрзянь', 'Estremeñu', 'Furlan', 'Gaelg', 'Gagauz', 'ГӀалгӀай', 'Gĩkũyũ', 'گیلکی', '赣语 / 贛語', 'Gungbe', 'Хальмг', 'ʻŌlelo Hawaiʻi', 'Ikinyarwanda', 'Kabɩyɛ', 'Kapampangan', 'Kaszëbsczi', 'Kernewek', 'ភាសាខ្មែរ', 'Коми', 'Перем коми', 'Kongo', 'कोंकणी / Konknni', 'كٲشُر', 'Kriyòl Gwiyannen', 'ພາສາລາວ', 'Лакку', 'Latgaļu', 'Лезги', 'Li Niha', 'Lingála', 'lojban', 'Luganda', 'Malti', 'Māori', 'Twi', 'Mirandés', 'Мокшень', 'ဘာသာ မန်', 'ߒߞߏ', 'Na Vosa Vaka-Viti', 'Nāhuatlahtōlli', 'Dorerin Naoero', 'Nedersaksisch', 'Nouormand / Normaund', 'Novial', 'Afaan Oromoo', 'ပအိုဝ်ႏဘာႏသာႏ', 'पालि', 'Pangasinán', 'Papiamentu', 'Pfälzisch', 'Picard', 'Къарачай–малкъар', 'Qaraqalpaqsha', 'Ripoarisch', 'Rumantsch', 'Русиньскый', 'Gagana Sāmoa', 'ᱥᱟᱱᱛᱟᱲᱤ', 'سرائیکی', 'Sardu', 'Seediq', 'Seeltersk', 'Sesotho sa Leboa', 'Setswana', 'Словѣ́ньскъ / ⰔⰎⰑⰂⰡⰐⰠⰔⰍⰟ', 'Soomaaliga', 'Sranantongo', 'Taqbaylit', 'Tarandíne', 'Tetun', 'Tok Pisin', 'faka Tonga', 'ᏣᎳᎩ', 'chiTumbuka', 'Türkmençe', 'Тыва дыл', 'Удмурт', 'ئۇيغۇرچه', 'Vepsän', 'Võro', 'West-Vlams', 'Wolof', 'isiXhosa', 'Zeêuws', 'Reo tahiti', '']\n"
     ]
    }
   ],
   "source": [
    "for i in over_1k_language:\n",
    "    one_k = i.split(\"\\n\")\n",
    "    \n",
    "print(one_k)"
   ]
  },
  {
   "cell_type": "code",
   "execution_count": 38,
   "id": "87af4b32",
   "metadata": {},
   "outputs": [
    {
     "name": "stdout",
     "output_type": "stream",
     "text": [
      "['', 'Akan', 'Bamanankan', 'Chamoru', 'Eʋegbe', 'Fulfulde', '𐌲𐌿𐍄𐌹𐍃𐌺', 'ᐃᓄᒃᑎᑐᑦ / Inuktitut', 'Iñupiak', 'Kalaallisut', 'Madhurâ', 'Nēhiyawēwin / ᓀᐦᐃᔭᐍᐏᐣ', 'Norfuk / Pitkern', 'Pangcah', 'pinayuanan', 'Ποντιακά', 'རྫོང་ཁ', 'romani čhib', 'Ikirundi', 'Sängö', 'Sesotho', 'SiSwati', 'ትግርኛ', 'Thuɔŋjäŋ', 'Tsėhesenėstsestotse', 'Xitsonga', 'Tyap', 'Tshivenḓa', '']\n"
     ]
    }
   ],
   "source": [
    "for i in under_1k_language:\n",
    "    under_one_k = i.split(\"\\n\")\n",
    "    \n",
    "print(under_one_k)"
   ]
  }
 ],
 "metadata": {
  "kernelspec": {
   "display_name": "Python 3 (ipykernel)",
   "language": "python",
   "name": "python3"
  },
  "language_info": {
   "codemirror_mode": {
    "name": "ipython",
    "version": 3
   },
   "file_extension": ".py",
   "mimetype": "text/x-python",
   "name": "python",
   "nbconvert_exporter": "python",
   "pygments_lexer": "ipython3",
   "version": "3.9.13"
  }
 },
 "nbformat": 4,
 "nbformat_minor": 5
}
