{
 "cells": [
  {
   "cell_type": "code",
   "execution_count": 1,
   "id": "82f3cbdd",
   "metadata": {},
   "outputs": [],
   "source": [
    "from bs4 import BeautifulSoup\n",
    "import requests\n",
    "import pandas as pd"
   ]
  },
  {
   "cell_type": "code",
   "execution_count": 2,
   "id": "aeb6412e",
   "metadata": {},
   "outputs": [],
   "source": [
    "# getting url\n",
    "url = \"https://www.popvortex.com/music/charts/top-100-songs.php\""
   ]
  },
  {
   "cell_type": "code",
   "execution_count": 3,
   "id": "c00d0e16",
   "metadata": {},
   "outputs": [
    {
     "data": {
      "text/plain": [
       "200"
      ]
     },
     "execution_count": 3,
     "metadata": {},
     "output_type": "execute_result"
    }
   ],
   "source": [
    "# download html with a get request\n",
    "response = requests.get(url)\n",
    "response.status_code"
   ]
  },
  {
   "cell_type": "code",
   "execution_count": 4,
   "id": "9a66ce68",
   "metadata": {},
   "outputs": [],
   "source": [
    "# parse html (create the 'soup')\n",
    "soup = BeautifulSoup(response.content, \"html.parser\")"
   ]
  },
  {
   "cell_type": "code",
   "execution_count": 5,
   "id": "3345fa33",
   "metadata": {},
   "outputs": [],
   "source": [
    "# print(soup.prettify())"
   ]
  },
  {
   "cell_type": "code",
   "execution_count": 6,
   "id": "01b84f47",
   "metadata": {},
   "outputs": [],
   "source": [
    "# body > div.container > div:nth-child(4) > div.col-xs-12.col-md-8 > div.chart-wrapper"
   ]
  },
  {
   "cell_type": "code",
   "execution_count": 7,
   "id": "76acaf5d",
   "metadata": {},
   "outputs": [],
   "source": [
    "# soup.select('div.container > div:nth-child(4) > div.col-xs-12.col-md-8 > div.chart-wrapper')"
   ]
  },
  {
   "cell_type": "code",
   "execution_count": 8,
   "id": "fcbf6446",
   "metadata": {},
   "outputs": [],
   "source": [
    "# soup.select(\"div.chart-wrapper p,li\")"
   ]
  },
  {
   "cell_type": "code",
   "execution_count": 9,
   "id": "21032fba",
   "metadata": {},
   "outputs": [
    {
     "name": "stdout",
     "output_type": "stream",
     "text": [
      "1\n",
      "Last Night\n",
      "Morgan Wallen\n",
      "Release Date: February 2, 2023\n",
      "Genre: Pop\n"
     ]
    }
   ],
   "source": [
    "print(soup.select(\"div.chart-wrapper p.chart-position\")[0].get_text())\n",
    "print(soup.select(\"div.chart-wrapper cite.title\")[0].get_text())\n",
    "print(soup.select(\"div.chart-wrapper em.artist\")[0].get_text())\n",
    "print(soup.select(\"div.chart-wrapper li\")[1].get_text())\n",
    "print(soup.select(\"div.chart-wrapper li\")[2].get_text())"
   ]
  },
  {
   "cell_type": "code",
   "execution_count": 10,
   "id": "c1b11932",
   "metadata": {},
   "outputs": [
    {
     "name": "stdout",
     "output_type": "stream",
     "text": [
      "['1', '2', '3', '4', '5', '6', '7', '8', '9', '10', '11', '12', '13', '14', '15', '16', '17', '18', '19', '20', '21', '22', '23', '24', '25', '26', '27', '28', '29', '30', '31', '32', '33', '34', '35', '36', '37', '38', '39', '40', '41', '42', '43', '44', '45', '46', '47', '48', '49', '50', '51', '52', '53', '54', '55', '56', '57', '58', '59', '60', '61', '62', '63', '64', '65', '66', '67', '68', '69', '70', '71', '72', '73', '74', '75', '76', '77', '78', '79', '80', '81', '82', '83', '84', '85', '86', '87', '88', '89', '90', '91', '92', '93', '94', '95', '96', '97', '98', '99', '100']\n",
      "['Last Night', 'Flowers', 'Fast Car', 'Thank God I Do', 'Like Crazy (Deep House Remix)', 'Like Crazy (UK Garage Remix)', 'Like Crazy (Instrumental)', 'Like Crazy (English Version)', 'FLOWER', 'Calm Down', 'Like Crazy', 'You Say', 'Anti-Hero', 'Heart Like A Truck', 'Eyes Closed', 'Thinkin’ Bout Me', 'Master of War', 'Players', 'Thought You Should Know', 'Thank God', 'TRUSTFALL', 'Red Ruby Da Sleeze (Sped Up) [feat. Xxtristanxo & Speed Radio]', \"Growin' Up and Gettin' Old\", \"God's Country\", 'Rock and a Hard Place', 'Love You Anyway', 'Fighting Myself', '72 Seasons', 'Rescue', 'labour', '5 Leaf Clover', 'wait in the truck', \"I Ain't Worried\", 'Set Me Free, Pt. 2', 'Kill Bill', 'Face-off', 'Jesus and Jesse James', 'Favorite Song', 'Unstoppable', 'Wasted On You', 'One Thing At A Time', 'Alone', 'NEED A FAVOR', 'It Was Always You', 'Interlude : Dive', 'All Eyes On Me', 'As It Was', \"Chasin' You\", 'Waiting', 'Sure Thing', \"Something in the Orange (Z&E's Version)\", 'NASTY', 'All Of The Girls You Loved Before', 'In Jesus Name (God Of Possible)', 'Made You Look', 'Tennessee Whiskey', 'Everywhere', \"Sounds Like Something I'd Do\", 'VOID', 'You Proof', 'Son Of A Sinner', 'Red Ruby Da Sleeze (Sped Up) [feat. Xxtristanxo & Speed Radio]', 'Red Ruby Da Sleeze', 'Handle On You', 'Dancin’ In The Country', \"Boy's a liar, Pt. 2\", 'Hold My Hand', 'Hold On To Me', 'You Raise Me Up', 'Lift Me Up (From Black Panther: Wakanda Forever - Music From and Inspired By)', 'Escapism.', 'Unholy', \"I'm Good (Blue)\", 'Out of My Head', 'Lost', 'Gratitude', 'Cowgirls (feat. ERNEST)', 'Going, Going, Gone', 'Bloody Mary', 'Die For You (Remix)', 'Eyes Closed', 'This Is Our God', 'I Wrote The Book', 'Mother', 'God Is In This Story', 'TQG', '10:35', 'ICU', 'golden hour', \"Life's Incredible Again\", 'Look At Us Now (Honeycomb)', 'Just Pretend', 'Forever and Ever, Amen', 'Just Give Me a Reason (feat. Nate Ruess)', 'Lavender Haze', 'Tennessee Orange', 'BESO', 'Lavender Haze (Acoustic Version)', 'Whiskey Glasses', 'Bonjour']\n",
      "['Morgan Wallen', 'Miley Cyrus', 'Luke Combs', 'Lauren Daigle', 'Jimin', 'Jimin', 'Jimin', 'Jimin', 'JISOO', 'Rema & Selena Gomez', 'Jimin', 'Lauren Daigle', 'Taylor Swift', 'Lainey Wilson', 'Ed Sheeran', 'Morgan Wallen', 'Peyton Parrish', 'Coi Leray', 'Morgan Wallen', 'Kane Brown & Katelyn Brown', 'P!nk', 'Nicki Minaj, Xxtristanxo & Speed Radio', 'Luke Combs', 'Blake Shelton', 'Bailey Zimmerman', 'Luke Combs', 'LINKIN PARK', 'Metallica', 'Lauren Daigle', 'Paris Paloma', 'Luke Combs', 'HARDY & Lainey Wilson', 'OneRepublic', 'Jimin', 'SZA', 'Jimin', 'Brandon Davis', 'Toosii', 'Sia', 'Morgan Wallen', 'Morgan Wallen', 'Jimin', 'Jelly Roll', 'Daisy Jones', 'Jimin', 'JISOO', 'Harry Styles', 'Morgan Wallen', 'Lauren Daigle', 'Miguel', 'Zach Bryan', 'Russ', 'Taylor Swift', 'Katy Nichole', 'Meghan Trainor', 'Chris Stapleton', 'Fleetwood Mac', 'Drake Milligan', 'Melanie Martinez', 'Morgan Wallen', 'Jelly Roll', 'Nicki Minaj, Xxtristanxo & Speed Radio', 'Nicki Minaj', 'Parker McCollum', 'Tyler Hubbard', 'PinkPantheress & Ice Spice', 'Lady Gaga', 'Lauren Daigle', 'Josh Groban', 'Rihanna', 'RAYE & 070 Shake', 'Sam Smith & Kim Petras', 'David Guetta & Bebe Rexha', 'Fastball', 'LINKIN PARK', 'Brandon Lake', 'Morgan Wallen', 'Luke Combs', 'Lady Gaga', 'The Weeknd & Ariana Grande', 'Ed Sheeran', 'Phil Wickham', 'Morgan Wallen', 'Meghan Trainor', 'Katy Nichole & Big Daddy Weave', 'KAROL G & Shakira', 'Tiësto & Tate McRae', 'Coco Jones', 'JVKE', 'Michael Giacchino', 'Daisy Jones & The Six', 'Bad Omens', 'Randy Travis', 'P!nk', 'Taylor Swift', 'Megan Moroney', 'ROSALÍA & Rauw Alejandro', 'Taylor Swift', 'Morgan Wallen', 'Zoey Dollaz']\n"
     ]
    }
   ],
   "source": [
    "chart_position = []\n",
    "song = []\n",
    "artist = []\n",
    "# genre = []\n",
    "\n",
    "num_iter = len(soup.select(\"div.chart-wrapper p.chart-position\"))\n",
    "\n",
    "chartlist = soup.select(\"div.chart-wrapper p.chart-position\")\n",
    "artist1 = soup.select(\"div.chart-wrapper em.artist\")\n",
    "song1 = soup.select(\"div.chart-wrapper cite.title\")\n",
    "# genrerelease = soup.select(\"div.chart-wrapper li\")\n",
    "\n",
    "for i in range(num_iter):\n",
    "            chart_position.append(chartlist[i].get_text())\n",
    "            song.append(song1[i].get_text())\n",
    "            artist.append(artist1[i].get_text())\n",
    "#             genre.append(genrerelease[i].get_text())\n",
    "                     \n",
    "print(chart_position)\n",
    "print(song)\n",
    "print(artist)\n",
    "# print(genre)"
   ]
  },
  {
   "cell_type": "code",
   "execution_count": 11,
   "id": "f93796d2",
   "metadata": {},
   "outputs": [
    {
     "name": "stdout",
     "output_type": "stream",
     "text": [
      "['Genre: Country', 'Release Date: February 2, 2023', 'Genre: Pop', 'Release Date: January 12, 2023', 'The current #1 hit song  in the U.S. on the Billboard Hot 100 chart.2 weeks at #1.', 'New Release', 'Genre: Country', 'Release Date: March 24, 2023', 'Genre: Pop', 'Release Date: March 10, 2023', 'New Release', 'Genre: K-Pop', 'Release Date: March 26, 2023', 'New Release', 'Genre: K-Pop', 'Release Date: March 26, 2023', 'New Release', 'Genre: K-Pop', 'Release Date: March 26, 2023', 'New Release', 'Genre: K-Pop', 'Release Date: March 24, 2023', 'New Release', 'Genre: K-Pop', 'Release Date: ', 'Genre: Pop', 'Release Date: August 25, 2022', 'New Release', 'Genre: K-Pop', 'Release Date: March 24, 2023', 'Genre: Christian & Gospel', 'Release Date: July 13, 2018', 'Genre: Pop', 'Release Date: October 21, 2022', 'Former #1 song on the Billboard Hot 100 chart.', 'Genre: Country', 'Release Date: August 12, 2022', 'New Release', 'Genre: Pop', 'Release Date: March 24, 2023', 'Genre: Country', 'Release Date: March 3, 2023', 'New Release', 'Genre: Heavy Metal', 'Release Date: ', 'Genre: Hip-Hop / Rap', 'Release Date: November 30, 2022', 'Genre: Country', 'Release Date: May 6, 2022', 'Genre: Country', 'Release Date: September 9, 2022', 'Genre: Pop', 'Release Date: January 27, 2023', 'New Release', 'Genre: Hip-Hop / Rap', 'Release Date: March 30, 2023', 'Genre: Country', 'Release Date: January 27, 2023', 'Genre: Country', 'Release Date: March 29, 2019', 'Genre: Country', 'Release Date: June 10, 2022', 'Genre: Country', 'Release Date: February 10, 2023', 'New Release', 'Genre: Alternative', 'Release Date: ', 'New Release', 'Genre: Heavy Metal', 'Release Date: March 30, 2023', 'Genre: Christian & Gospel', 'Release Date: September 7, 2018', 'Genre: Alternative Folk', 'Release Date: March 23, 2023', 'Genre: Country', 'Release Date: March 17, 2023', 'Genre: Country', 'Release Date: August 26, 2022', 'Genre: Pop', 'Release Date: May 27, 2022', 'Genre: K-Pop', 'Release Date: March 17, 2023', 'Genre: R&B / Soul', 'Release Date: December 9, 2022', 'New Release', 'Genre: K-Pop', 'Release Date: March 24, 2023', 'New Release', 'Genre: Country', 'Release Date: ', 'Genre: Hip-Hop / Rap', 'Release Date: February 17, 2023', 'Genre: Pop', 'Release Date: January 21, 2016', 'Genre: Country', 'Release Date: January 8, 2021', 'Genre: Country', 'Release Date: December 2, 2022', 'New Release', 'Genre: K-Pop', 'Release Date: March 24, 2023', 'Genre: Country', 'Release Date: December 9, 2022', 'New Release', 'Genre: Rock', 'Release Date: March 30, 2023', 'New Release', 'Genre: K-Pop', 'Release Date: March 24, 2023', 'New Release', 'Genre: K-Pop', 'Release Date: ', 'Genre: Pop', 'Release Date: March 31, 2022', 'Former #1 song on the Billboard Hot 100 chart.', 'Genre: Country', 'Release Date: April 27, 2018', 'New Release', 'Genre: Pop', 'Release Date: ', 'Genre: R&B / Soul', 'Release Date: November 30, 2010', 'Genre: Country', 'Release Date: April 22, 2022', 'Genre: Hip-Hop / Rap', 'Release Date: March 17, 2023', 'Genre: Pop', 'Release Date: March 17, 2023', 'Genre: Christian & Gospel', 'Release Date: January 26, 2022', 'Genre: Pop', 'Release Date: October 21, 2022', 'Genre: Country', 'Release Date: April 28, 2015', 'Genre: Rock', 'Release Date: April 14, 1987', 'Genre: Country', 'Release Date: July 23, 2021', 'New Release', 'Genre: Alternative', 'Release Date: ', 'Genre: Country', 'Release Date: May 13, 2022', 'Genre: Rock', 'Release Date: September 17, 2021', 'New Release', 'Genre: Hip-Hop / Rap', 'Release Date: March 30, 2023', 'New Release', 'Genre: Hip-Hop / Rap', 'Release Date: March 30, 2023', 'Genre: Country', 'Release Date: August 5, 2022', 'Genre: Country', 'Release Date: August 19, 2022', 'Genre: Pop', 'Release Date: February 3, 2023', 'Genre: Pop', 'Release Date: May 3, 2022', 'Genre: Christian & Gospel', 'Release Date: February 26, 2021', 'Genre: Pop', 'Release Date: November 11, 2003', 'Genre: Pop', 'Release Date: October 28, 2022', 'Genre: Pop', 'Release Date: October 14, 2022', 'Genre: Pop', 'Release Date: September 22, 2022', 'Former #1 song on the Billboard Hot 100 chart.', 'Genre: Dance', 'Release Date: August 26, 2022', 'Genre: Alternative', 'Release Date: March 10, 1998', 'Genre: Alternative', 'Release Date: February 10, 2023', 'Genre: Christian & Gospel', 'Release Date: August 28, 2020', 'Genre: Country', 'Release Date: March 3, 2023', 'Genre: Country', 'Release Date: June 24, 2022', 'Genre: Pop', 'Release Date: January 1, 2011', 'Genre: R&B / Soul', 'Release Date: February 24, 2023', 'Genre: Pop', 'Release Date: March 24, 2023', 'Genre: Christian & Gospel', 'Release Date: January 13, 2023', 'Genre: Country', 'Release Date: February 2, 2023', 'Genre: Pop', 'Release Date: March 10, 2023', 'Genre: Christian & Gospel', 'Release Date: June 24, 2022', 'Genre: Latin Urban', 'Release Date: February 24, 2023', 'Genre: Dance', 'Release Date: November 3, 2022', 'Genre: R&B / Soul', 'Release Date: October 21, 2022', 'Genre: Pop', 'Release Date: July 15, 2022', 'Genre: Pop', 'Release Date: January 1, 2004', 'Genre: Rock', 'Release Date: February 22, 2023', 'Genre: Heavy Metal', 'Release Date: February 25, 2022', 'Genre: Country', 'Release Date: April 4, 1987', 'Genre: Pop', 'Release Date: September 14, 2012', 'Genre: Pop', 'Release Date: October 21, 2022', 'Genre: Country', 'Release Date: September 1, 2022', 'New Release', 'Genre: Pop in Spanish', 'Release Date: March 24, 2023', 'New Release', 'Genre: Pop', 'Release Date: ', 'Genre: Country', 'Release Date: January 1, 2016', 'New Release', 'Genre: Hip-Hop / Rap', 'Release Date: March 24, 2023']\n"
     ]
    }
   ],
   "source": [
    "genre = []\n",
    "\n",
    "num_iter = len(soup.select(\"div.chart-wrapper li\"))\n",
    "\n",
    "genrerelease = soup.select(\"div.chart-wrapper li\")\n",
    "\n",
    "for i in range(num_iter):\n",
    "    genre.append(genrerelease[i].get_text())\n",
    "    \n",
    "print(genre)"
   ]
  },
  {
   "cell_type": "code",
   "execution_count": 12,
   "id": "7209ae93",
   "metadata": {},
   "outputs": [
    {
     "name": "stdout",
     "output_type": "stream",
     "text": [
      "['Genre: Country', 'Genre: Pop', 'Genre: Country', 'Genre: Pop', 'Genre: K-Pop', 'Genre: K-Pop', 'Genre: K-Pop', 'Genre: K-Pop', 'Genre: K-Pop', 'Genre: Pop', 'Genre: K-Pop', 'Genre: Christian & Gospel', 'Genre: Pop', 'Genre: Country', 'Genre: Pop', 'Genre: Country', 'Genre: Heavy Metal', 'Genre: Hip-Hop / Rap', 'Genre: Country', 'Genre: Country', 'Genre: Pop', 'Genre: Hip-Hop / Rap', 'Genre: Country', 'Genre: Country', 'Genre: Country', 'Genre: Country', 'Genre: Alternative', 'Genre: Heavy Metal', 'Genre: Christian & Gospel', 'Genre: Alternative Folk', 'Genre: Country', 'Genre: Country', 'Genre: Pop', 'Genre: K-Pop', 'Genre: R&B / Soul', 'Genre: K-Pop', 'Genre: Country', 'Genre: Hip-Hop / Rap', 'Genre: Pop', 'Genre: Country', 'Genre: Country', 'Genre: K-Pop', 'Genre: Country', 'Genre: Rock', 'Genre: K-Pop', 'Genre: K-Pop', 'Genre: Pop', 'Genre: Country', 'Genre: Pop', 'Genre: R&B / Soul', 'Genre: Country', 'Genre: Hip-Hop / Rap', 'Genre: Pop', 'Genre: Christian & Gospel', 'Genre: Pop', 'Genre: Country', 'Genre: Rock', 'Genre: Country', 'Genre: Alternative', 'Genre: Country', 'Genre: Rock', 'Genre: Hip-Hop / Rap', 'Genre: Hip-Hop / Rap', 'Genre: Country', 'Genre: Country', 'Genre: Pop', 'Genre: Pop', 'Genre: Christian & Gospel', 'Genre: Pop', 'Genre: Pop', 'Genre: Pop', 'Genre: Pop', 'Genre: Dance', 'Genre: Alternative', 'Genre: Alternative', 'Genre: Christian & Gospel', 'Genre: Country', 'Genre: Country', 'Genre: Pop', 'Genre: R&B / Soul', 'Genre: Pop', 'Genre: Christian & Gospel', 'Genre: Country', 'Genre: Pop', 'Genre: Christian & Gospel', 'Genre: Latin Urban', 'Genre: Dance', 'Genre: R&B / Soul', 'Genre: Pop', 'Genre: Pop', 'Genre: Rock', 'Genre: Heavy Metal', 'Genre: Country', 'Genre: Pop', 'Genre: Pop', 'Genre: Country', 'Genre: Pop in Spanish', 'Genre: Pop', 'Genre: Country', 'Genre: Hip-Hop / Rap']\n",
      "['Release Date: February 2, 2023', 'Release Date: January 12, 2023', 'Release Date: March 24, 2023', 'Release Date: March 10, 2023', 'Release Date: March 26, 2023', 'Release Date: March 26, 2023', 'Release Date: March 26, 2023', 'Release Date: March 24, 2023', 'Release Date: ', 'Release Date: August 25, 2022', 'Release Date: March 24, 2023', 'Release Date: July 13, 2018', 'Release Date: October 21, 2022', 'Release Date: August 12, 2022', 'Release Date: March 24, 2023', 'Release Date: March 3, 2023', 'Release Date: ', 'Release Date: November 30, 2022', 'Release Date: May 6, 2022', 'Release Date: September 9, 2022', 'Release Date: January 27, 2023', 'Release Date: March 30, 2023', 'Release Date: January 27, 2023', 'Release Date: March 29, 2019', 'Release Date: June 10, 2022', 'Release Date: February 10, 2023', 'Release Date: ', 'Release Date: March 30, 2023', 'Release Date: September 7, 2018', 'Release Date: March 23, 2023', 'Release Date: March 17, 2023', 'Release Date: August 26, 2022', 'Release Date: May 27, 2022', 'Release Date: March 17, 2023', 'Release Date: December 9, 2022', 'Release Date: March 24, 2023', 'Release Date: ', 'Release Date: February 17, 2023', 'Release Date: January 21, 2016', 'Release Date: January 8, 2021', 'Release Date: December 2, 2022', 'Release Date: March 24, 2023', 'Release Date: December 9, 2022', 'Release Date: March 30, 2023', 'Release Date: March 24, 2023', 'Release Date: ', 'Release Date: March 31, 2022', 'Release Date: April 27, 2018', 'Release Date: ', 'Release Date: November 30, 2010', 'Release Date: April 22, 2022', 'Release Date: March 17, 2023', 'Release Date: March 17, 2023', 'Release Date: January 26, 2022', 'Release Date: October 21, 2022', 'Release Date: April 28, 2015', 'Release Date: April 14, 1987', 'Release Date: July 23, 2021', 'Release Date: ', 'Release Date: May 13, 2022', 'Release Date: September 17, 2021', 'Release Date: March 30, 2023', 'Release Date: March 30, 2023', 'Release Date: August 5, 2022', 'Release Date: August 19, 2022', 'Release Date: February 3, 2023', 'Release Date: May 3, 2022', 'Release Date: February 26, 2021', 'Release Date: November 11, 2003', 'Release Date: October 28, 2022', 'Release Date: October 14, 2022', 'Release Date: September 22, 2022', 'Release Date: August 26, 2022', 'Release Date: March 10, 1998', 'Release Date: February 10, 2023', 'Release Date: August 28, 2020', 'Release Date: March 3, 2023', 'Release Date: June 24, 2022', 'Release Date: January 1, 2011', 'Release Date: February 24, 2023', 'Release Date: March 24, 2023', 'Release Date: January 13, 2023', 'Release Date: February 2, 2023', 'Release Date: March 10, 2023', 'Release Date: June 24, 2022', 'Release Date: February 24, 2023', 'Release Date: November 3, 2022', 'Release Date: October 21, 2022', 'Release Date: July 15, 2022', 'Release Date: January 1, 2004', 'Release Date: February 22, 2023', 'Release Date: February 25, 2022', 'Release Date: April 4, 1987', 'Release Date: September 14, 2012', 'Release Date: October 21, 2022', 'Release Date: September 1, 2022', 'Release Date: March 24, 2023', 'Release Date: ', 'Release Date: January 1, 2016', 'Release Date: March 24, 2023']\n"
     ]
    }
   ],
   "source": [
    "genre1 = []\n",
    "date = []\n",
    "for i in genre :\n",
    "    if \"Genre\" in i:\n",
    "        genre1.append(i)\n",
    "    if \"Release Date:\" in i:\n",
    "        date.append(i)\n",
    "        \n",
    "print(genre1)\n",
    "print(date)"
   ]
  },
  {
   "cell_type": "code",
   "execution_count": 13,
   "id": "ca67bda3",
   "metadata": {},
   "outputs": [
    {
     "name": "stdout",
     "output_type": "stream",
     "text": [
      "['February 2, 2023', 'January 12, 2023', 'March 24, 2023', 'March 10, 2023', 'March 26, 2023', 'March 26, 2023', 'March 26, 2023', 'March 24, 2023', '', 'August 25, 2022', 'March 24, 2023', 'July 13, 2018', 'October 21, 2022', 'August 12, 2022', 'March 24, 2023', 'March 3, 2023', '', 'November 30, 2022', 'May 6, 2022', 'September 9, 2022', 'January 27, 2023', 'March 30, 2023', 'January 27, 2023', 'March 29, 2019', 'June 10, 2022', 'February 10, 2023', '', 'March 30, 2023', 'September 7, 2018', 'March 23, 2023', 'March 17, 2023', 'August 26, 2022', 'May 27, 2022', 'March 17, 2023', 'December 9, 2022', 'March 24, 2023', '', 'February 17, 2023', 'January 21, 2016', 'January 8, 2021', 'December 2, 2022', 'March 24, 2023', 'December 9, 2022', 'March 30, 2023', 'March 24, 2023', '', 'March 31, 2022', 'April 27, 2018', '', 'November 30, 2010', 'April 22, 2022', 'March 17, 2023', 'March 17, 2023', 'January 26, 2022', 'October 21, 2022', 'April 28, 2015', 'April 14, 1987', 'July 23, 2021', '', 'May 13, 2022', 'September 17, 2021', 'March 30, 2023', 'March 30, 2023', 'August 5, 2022', 'August 19, 2022', 'February 3, 2023', 'May 3, 2022', 'February 26, 2021', 'November 11, 2003', 'October 28, 2022', 'October 14, 2022', 'September 22, 2022', 'August 26, 2022', 'March 10, 1998', 'February 10, 2023', 'August 28, 2020', 'March 3, 2023', 'June 24, 2022', 'January 1, 2011', 'February 24, 2023', 'March 24, 2023', 'January 13, 2023', 'February 2, 2023', 'March 10, 2023', 'June 24, 2022', 'February 24, 2023', 'November 3, 2022', 'October 21, 2022', 'July 15, 2022', 'January 1, 2004', 'February 22, 2023', 'February 25, 2022', 'April 4, 1987', 'September 14, 2012', 'October 21, 2022', 'September 1, 2022', 'March 24, 2023', '', 'January 1, 2016', 'March 24, 2023']\n"
     ]
    },
    {
     "data": {
      "text/plain": [
       "100"
      ]
     },
     "execution_count": 13,
     "metadata": {},
     "output_type": "execute_result"
    }
   ],
   "source": [
    "release_date = []\n",
    "for i in date:\n",
    "    i = i.replace('Release Date: ','')\n",
    "    release_date.append(i)\n",
    "\n",
    "# release_date.pop(0)\n",
    "print(release_date)\n",
    "len(release_date)"
   ]
  },
  {
   "cell_type": "code",
   "execution_count": 14,
   "id": "ee331615",
   "metadata": {},
   "outputs": [
    {
     "name": "stdout",
     "output_type": "stream",
     "text": [
      "['Country', 'Pop', 'Country', 'Pop', 'K-Pop', 'K-Pop', 'K-Pop', 'K-Pop', 'K-Pop', 'Pop', 'K-Pop', 'Christian & Gospel', 'Pop', 'Country', 'Pop', 'Country', 'Heavy Metal', 'Hip-Hop / Rap', 'Country', 'Country', 'Pop', 'Hip-Hop / Rap', 'Country', 'Country', 'Country', 'Country', 'Alternative', 'Heavy Metal', 'Christian & Gospel', 'Alternative Folk', 'Country', 'Country', 'Pop', 'K-Pop', 'R&B / Soul', 'K-Pop', 'Country', 'Hip-Hop / Rap', 'Pop', 'Country', 'Country', 'K-Pop', 'Country', 'Rock', 'K-Pop', 'K-Pop', 'Pop', 'Country', 'Pop', 'R&B / Soul', 'Country', 'Hip-Hop / Rap', 'Pop', 'Christian & Gospel', 'Pop', 'Country', 'Rock', 'Country', 'Alternative', 'Country', 'Rock', 'Hip-Hop / Rap', 'Hip-Hop / Rap', 'Country', 'Country', 'Pop', 'Pop', 'Christian & Gospel', 'Pop', 'Pop', 'Pop', 'Pop', 'Dance', 'Alternative', 'Alternative', 'Christian & Gospel', 'Country', 'Country', 'Pop', 'R&B / Soul', 'Pop', 'Christian & Gospel', 'Country', 'Pop', 'Christian & Gospel', 'Latin Urban', 'Dance', 'R&B / Soul', 'Pop', 'Pop', 'Rock', 'Heavy Metal', 'Country', 'Pop', 'Pop', 'Country', 'Pop in Spanish', 'Pop', 'Country', 'Hip-Hop / Rap']\n"
     ]
    },
    {
     "data": {
      "text/plain": [
       "100"
      ]
     },
     "execution_count": 14,
     "metadata": {},
     "output_type": "execute_result"
    }
   ],
   "source": [
    "genre2 = []\n",
    "for i in genre1:\n",
    "    i = i.replace('Genre: ','')\n",
    "    genre2.append(i)\n",
    "\n",
    "print(genre2)\n",
    "len(genre2)"
   ]
  },
  {
   "cell_type": "code",
   "execution_count": 15,
   "id": "1aa97bd3",
   "metadata": {},
   "outputs": [
    {
     "data": {
      "text/html": [
       "<div>\n",
       "<style scoped>\n",
       "    .dataframe tbody tr th:only-of-type {\n",
       "        vertical-align: middle;\n",
       "    }\n",
       "\n",
       "    .dataframe tbody tr th {\n",
       "        vertical-align: top;\n",
       "    }\n",
       "\n",
       "    .dataframe thead th {\n",
       "        text-align: right;\n",
       "    }\n",
       "</style>\n",
       "<table border=\"1\" class=\"dataframe\">\n",
       "  <thead>\n",
       "    <tr style=\"text-align: right;\">\n",
       "      <th></th>\n",
       "      <th>chart_position</th>\n",
       "      <th>song</th>\n",
       "      <th>artist</th>\n",
       "      <th>genre</th>\n",
       "      <th>release</th>\n",
       "    </tr>\n",
       "  </thead>\n",
       "  <tbody>\n",
       "    <tr>\n",
       "      <th>0</th>\n",
       "      <td>1</td>\n",
       "      <td>Last Night</td>\n",
       "      <td>Morgan Wallen</td>\n",
       "      <td>Country</td>\n",
       "      <td>February 2, 2023</td>\n",
       "    </tr>\n",
       "    <tr>\n",
       "      <th>1</th>\n",
       "      <td>2</td>\n",
       "      <td>Flowers</td>\n",
       "      <td>Miley Cyrus</td>\n",
       "      <td>Pop</td>\n",
       "      <td>January 12, 2023</td>\n",
       "    </tr>\n",
       "    <tr>\n",
       "      <th>2</th>\n",
       "      <td>3</td>\n",
       "      <td>Fast Car</td>\n",
       "      <td>Luke Combs</td>\n",
       "      <td>Country</td>\n",
       "      <td>March 24, 2023</td>\n",
       "    </tr>\n",
       "    <tr>\n",
       "      <th>3</th>\n",
       "      <td>4</td>\n",
       "      <td>Thank God I Do</td>\n",
       "      <td>Lauren Daigle</td>\n",
       "      <td>Pop</td>\n",
       "      <td>March 10, 2023</td>\n",
       "    </tr>\n",
       "    <tr>\n",
       "      <th>4</th>\n",
       "      <td>5</td>\n",
       "      <td>Like Crazy (Deep House Remix)</td>\n",
       "      <td>Jimin</td>\n",
       "      <td>K-Pop</td>\n",
       "      <td>March 26, 2023</td>\n",
       "    </tr>\n",
       "    <tr>\n",
       "      <th>...</th>\n",
       "      <td>...</td>\n",
       "      <td>...</td>\n",
       "      <td>...</td>\n",
       "      <td>...</td>\n",
       "      <td>...</td>\n",
       "    </tr>\n",
       "    <tr>\n",
       "      <th>95</th>\n",
       "      <td>96</td>\n",
       "      <td>Tennessee Orange</td>\n",
       "      <td>Megan Moroney</td>\n",
       "      <td>Country</td>\n",
       "      <td>September 1, 2022</td>\n",
       "    </tr>\n",
       "    <tr>\n",
       "      <th>96</th>\n",
       "      <td>97</td>\n",
       "      <td>BESO</td>\n",
       "      <td>ROSALÍA &amp; Rauw Alejandro</td>\n",
       "      <td>Pop in Spanish</td>\n",
       "      <td>March 24, 2023</td>\n",
       "    </tr>\n",
       "    <tr>\n",
       "      <th>97</th>\n",
       "      <td>98</td>\n",
       "      <td>Lavender Haze (Acoustic Version)</td>\n",
       "      <td>Taylor Swift</td>\n",
       "      <td>Pop</td>\n",
       "      <td></td>\n",
       "    </tr>\n",
       "    <tr>\n",
       "      <th>98</th>\n",
       "      <td>99</td>\n",
       "      <td>Whiskey Glasses</td>\n",
       "      <td>Morgan Wallen</td>\n",
       "      <td>Country</td>\n",
       "      <td>January 1, 2016</td>\n",
       "    </tr>\n",
       "    <tr>\n",
       "      <th>99</th>\n",
       "      <td>100</td>\n",
       "      <td>Bonjour</td>\n",
       "      <td>Zoey Dollaz</td>\n",
       "      <td>Hip-Hop / Rap</td>\n",
       "      <td>March 24, 2023</td>\n",
       "    </tr>\n",
       "  </tbody>\n",
       "</table>\n",
       "<p>100 rows × 5 columns</p>\n",
       "</div>"
      ],
      "text/plain": [
       "   chart_position                              song                    artist  \\\n",
       "0               1                        Last Night             Morgan Wallen   \n",
       "1               2                           Flowers               Miley Cyrus   \n",
       "2               3                          Fast Car                Luke Combs   \n",
       "3               4                    Thank God I Do             Lauren Daigle   \n",
       "4               5     Like Crazy (Deep House Remix)                     Jimin   \n",
       "..            ...                               ...                       ...   \n",
       "95             96                  Tennessee Orange             Megan Moroney   \n",
       "96             97                              BESO  ROSALÍA & Rauw Alejandro   \n",
       "97             98  Lavender Haze (Acoustic Version)              Taylor Swift   \n",
       "98             99                   Whiskey Glasses             Morgan Wallen   \n",
       "99            100                           Bonjour               Zoey Dollaz   \n",
       "\n",
       "             genre            release  \n",
       "0          Country   February 2, 2023  \n",
       "1              Pop   January 12, 2023  \n",
       "2          Country     March 24, 2023  \n",
       "3              Pop     March 10, 2023  \n",
       "4            K-Pop     March 26, 2023  \n",
       "..             ...                ...  \n",
       "95         Country  September 1, 2022  \n",
       "96  Pop in Spanish     March 24, 2023  \n",
       "97             Pop                     \n",
       "98         Country    January 1, 2016  \n",
       "99   Hip-Hop / Rap     March 24, 2023  \n",
       "\n",
       "[100 rows x 5 columns]"
      ]
     },
     "execution_count": 15,
     "metadata": {},
     "output_type": "execute_result"
    }
   ],
   "source": [
    "songs = pd.DataFrame({\"chart_position\":chart_position,\n",
    "                       \"song\":song,\n",
    "                       \"artist\":artist,\n",
    "                       \"genre\":genre2,\n",
    "                       \"release\":release_date\n",
    "                      })\n",
    "songs"
   ]
  },
  {
   "cell_type": "markdown",
   "id": "be5a78af",
   "metadata": {},
   "source": [
    "# Expanding the song table:"
   ]
  },
  {
   "cell_type": "code",
   "execution_count": 16,
   "id": "4d7310da",
   "metadata": {},
   "outputs": [],
   "source": [
    "url2 = \"https://www.popvortex.com/music/charts/2017.php\""
   ]
  },
  {
   "cell_type": "code",
   "execution_count": 17,
   "id": "1cc6f2dd",
   "metadata": {},
   "outputs": [
    {
     "data": {
      "text/plain": [
       "200"
      ]
     },
     "execution_count": 17,
     "metadata": {},
     "output_type": "execute_result"
    }
   ],
   "source": [
    "response2 = requests.get(url2)\n",
    "response2.status_code"
   ]
  },
  {
   "cell_type": "code",
   "execution_count": 18,
   "id": "ef67adc5",
   "metadata": {},
   "outputs": [],
   "source": [
    "soup2 = BeautifulSoup(response2.content, \"html.parser\")"
   ]
  },
  {
   "cell_type": "code",
   "execution_count": 19,
   "id": "087ade79",
   "metadata": {},
   "outputs": [],
   "source": [
    "# print(soup2.prettify())"
   ]
  },
  {
   "cell_type": "code",
   "execution_count": 20,
   "id": "4d5a0607",
   "metadata": {},
   "outputs": [],
   "source": [
    "# soup2.select('body > div.container > div.row > div.col-md-8 > div:nth-child(4)')"
   ]
  },
  {
   "cell_type": "code",
   "execution_count": 21,
   "id": "06bc4365",
   "metadata": {},
   "outputs": [
    {
     "name": "stdout",
     "output_type": "stream",
     "text": [
      "1\n",
      "Shape of You\n",
      "Ed Sheeran\n"
     ]
    }
   ],
   "source": [
    "print(soup2.select(\"div p.chart-position\")[0].get_text())\n",
    "print(soup2.select(\"div em.title\")[0].get_text())\n",
    "print(soup2.select(\"div p em.artist\")[0].get_text())"
   ]
  },
  {
   "cell_type": "code",
   "execution_count": 22,
   "id": "7e128600",
   "metadata": {},
   "outputs": [
    {
     "name": "stdout",
     "output_type": "stream",
     "text": [
      "['1', '2', '3', '4', '5', '6', '7', '8', '9', '10', '1', '2', '3', '4', '5', '6', '7', '8', '9', '10']\n",
      "['Shape of You', 'Despacito (feat. Justin Bieber) [Remix]', \"That's What I Like\", 'HUMBLE.', 'Body Like a Back Road', 'Bad and Boujee (feat. Lil Uzi Vert)', '24K Magic', \"I'm the One (feat. Justin Bieber, Quavo, Chance the Rapper & Lil Wayne)\", 'Congratulations (feat. Quavo)', 'Black Beatles (feat. Gucci Mane)', 'Views', 'DAMN.', 'reputation', '÷ (Deluxe)', 'Starboy', '4 Your Eyez Only', '24K Magic', 'Culture', 'FUTURE', 'Moana (Original Motion Picture Soundtrack) [Deluxe Edition]']\n",
      "['Ed Sheeran', 'Luis Fonsi & Daddy Yankee', 'Bruno Mars', 'Kendrick Lamar', 'Sam Hunt', 'Migos', 'Bruno Mars', 'DJ Khaled', 'Post Malone', 'Rae Sremmurd', 'Drake', 'Kendrick Lamar', 'Taylor Swift', 'Sheeran', 'The Weeknd', 'J. Cole', 'Bruno Mars', 'Migos', 'Future', 'Various Artists']\n"
     ]
    }
   ],
   "source": [
    "rank = []\n",
    "song2 = []\n",
    "artist2 = []\n",
    "# genre = []\n",
    "\n",
    "num_iter2 = len(soup2.select(\"div p.chart-position\"))\n",
    "\n",
    "ranking = soup2.select(\"div p.chart-position\")\n",
    "artist22 = soup2.select(\"div p em.artist\")\n",
    "song22 = soup2.select(\"div em.title\")\n",
    "# genrerelease = soup.select(\"div.chart-wrapper li\")\n",
    "\n",
    "for i in range(num_iter2):\n",
    "            rank.append(ranking[i].get_text())\n",
    "            song2.append(song22[i].get_text())\n",
    "            artist2.append(artist22[i].get_text())\n",
    "#             genre.append(genrerelease[i].get_text())\n",
    "                     \n",
    "print(rank)\n",
    "print(song2)\n",
    "print(artist2)"
   ]
  },
  {
   "cell_type": "code",
   "execution_count": 23,
   "id": "9faf9fce",
   "metadata": {},
   "outputs": [
    {
     "name": "stdout",
     "output_type": "stream",
     "text": [
      "['1', '2', '3', '4', '5', '6', '7', '8', '9', '10']\n",
      "['Shape of You', 'Despacito (feat. Justin Bieber) [Remix]', \"That's What I Like\", 'HUMBLE.', 'Body Like a Back Road', 'Bad and Boujee (feat. Lil Uzi Vert)', '24K Magic', \"I'm the One (feat. Justin Bieber, Quavo, Chance the Rapper & Lil Wayne)\", 'Congratulations (feat. Quavo)', 'Black Beatles (feat. Gucci Mane)']\n",
      "['Ed Sheeran', 'Luis Fonsi & Daddy Yankee', 'Bruno Mars', 'Kendrick Lamar', 'Sam Hunt', 'Migos', 'Bruno Mars', 'DJ Khaled', 'Post Malone', 'Rae Sremmurd']\n"
     ]
    }
   ],
   "source": [
    "n = 10\n",
    "del rank[n:]\n",
    "del song2[n:]\n",
    "del artist2[n:]\n",
    "print(rank)\n",
    "print(song2)\n",
    "print(artist2)"
   ]
  },
  {
   "cell_type": "code",
   "execution_count": 24,
   "id": "25ca33a0",
   "metadata": {},
   "outputs": [
    {
     "data": {
      "text/html": [
       "<div>\n",
       "<style scoped>\n",
       "    .dataframe tbody tr th:only-of-type {\n",
       "        vertical-align: middle;\n",
       "    }\n",
       "\n",
       "    .dataframe tbody tr th {\n",
       "        vertical-align: top;\n",
       "    }\n",
       "\n",
       "    .dataframe thead th {\n",
       "        text-align: right;\n",
       "    }\n",
       "</style>\n",
       "<table border=\"1\" class=\"dataframe\">\n",
       "  <thead>\n",
       "    <tr style=\"text-align: right;\">\n",
       "      <th></th>\n",
       "      <th>chart_position</th>\n",
       "      <th>song</th>\n",
       "      <th>artist</th>\n",
       "    </tr>\n",
       "  </thead>\n",
       "  <tbody>\n",
       "    <tr>\n",
       "      <th>0</th>\n",
       "      <td>1</td>\n",
       "      <td>Shape of You</td>\n",
       "      <td>Ed Sheeran</td>\n",
       "    </tr>\n",
       "    <tr>\n",
       "      <th>1</th>\n",
       "      <td>2</td>\n",
       "      <td>Despacito (feat. Justin Bieber) [Remix]</td>\n",
       "      <td>Luis Fonsi &amp; Daddy Yankee</td>\n",
       "    </tr>\n",
       "    <tr>\n",
       "      <th>2</th>\n",
       "      <td>3</td>\n",
       "      <td>That's What I Like</td>\n",
       "      <td>Bruno Mars</td>\n",
       "    </tr>\n",
       "    <tr>\n",
       "      <th>3</th>\n",
       "      <td>4</td>\n",
       "      <td>HUMBLE.</td>\n",
       "      <td>Kendrick Lamar</td>\n",
       "    </tr>\n",
       "    <tr>\n",
       "      <th>4</th>\n",
       "      <td>5</td>\n",
       "      <td>Body Like a Back Road</td>\n",
       "      <td>Sam Hunt</td>\n",
       "    </tr>\n",
       "    <tr>\n",
       "      <th>5</th>\n",
       "      <td>6</td>\n",
       "      <td>Bad and Boujee (feat. Lil Uzi Vert)</td>\n",
       "      <td>Migos</td>\n",
       "    </tr>\n",
       "    <tr>\n",
       "      <th>6</th>\n",
       "      <td>7</td>\n",
       "      <td>24K Magic</td>\n",
       "      <td>Bruno Mars</td>\n",
       "    </tr>\n",
       "    <tr>\n",
       "      <th>7</th>\n",
       "      <td>8</td>\n",
       "      <td>I'm the One (feat. Justin Bieber, Quavo, Chanc...</td>\n",
       "      <td>DJ Khaled</td>\n",
       "    </tr>\n",
       "    <tr>\n",
       "      <th>8</th>\n",
       "      <td>9</td>\n",
       "      <td>Congratulations (feat. Quavo)</td>\n",
       "      <td>Post Malone</td>\n",
       "    </tr>\n",
       "    <tr>\n",
       "      <th>9</th>\n",
       "      <td>10</td>\n",
       "      <td>Black Beatles (feat. Gucci Mane)</td>\n",
       "      <td>Rae Sremmurd</td>\n",
       "    </tr>\n",
       "  </tbody>\n",
       "</table>\n",
       "</div>"
      ],
      "text/plain": [
       "  chart_position                                               song  \\\n",
       "0              1                                       Shape of You   \n",
       "1              2            Despacito (feat. Justin Bieber) [Remix]   \n",
       "2              3                                 That's What I Like   \n",
       "3              4                                            HUMBLE.   \n",
       "4              5                              Body Like a Back Road   \n",
       "5              6                Bad and Boujee (feat. Lil Uzi Vert)   \n",
       "6              7                                          24K Magic   \n",
       "7              8  I'm the One (feat. Justin Bieber, Quavo, Chanc...   \n",
       "8              9                      Congratulations (feat. Quavo)   \n",
       "9             10                   Black Beatles (feat. Gucci Mane)   \n",
       "\n",
       "                      artist  \n",
       "0                 Ed Sheeran  \n",
       "1  Luis Fonsi & Daddy Yankee  \n",
       "2                 Bruno Mars  \n",
       "3             Kendrick Lamar  \n",
       "4                   Sam Hunt  \n",
       "5                      Migos  \n",
       "6                 Bruno Mars  \n",
       "7                  DJ Khaled  \n",
       "8                Post Malone  \n",
       "9               Rae Sremmurd  "
      ]
     },
     "execution_count": 24,
     "metadata": {},
     "output_type": "execute_result"
    }
   ],
   "source": [
    "songs2 = pd.DataFrame({\"chart_position\":rank,\n",
    "                       \"song\":song2,\n",
    "                       \"artist\":artist2,\n",
    "#                        \"genre\":genre2,\n",
    "#                        \"release\":release_date\n",
    "                      })\n",
    "songs2"
   ]
  },
  {
   "cell_type": "code",
   "execution_count": 25,
   "id": "8fd44d8c",
   "metadata": {},
   "outputs": [
    {
     "name": "stderr",
     "output_type": "stream",
     "text": [
      "C:\\Users\\Customer\\AppData\\Local\\Temp\\ipykernel_22124\\3607805367.py:1: FutureWarning: The frame.append method is deprecated and will be removed from pandas in a future version. Use pandas.concat instead.\n",
      "  songs_all = songs.append(songs2, ignore_index=True)\n"
     ]
    },
    {
     "data": {
      "text/html": [
       "<div>\n",
       "<style scoped>\n",
       "    .dataframe tbody tr th:only-of-type {\n",
       "        vertical-align: middle;\n",
       "    }\n",
       "\n",
       "    .dataframe tbody tr th {\n",
       "        vertical-align: top;\n",
       "    }\n",
       "\n",
       "    .dataframe thead th {\n",
       "        text-align: right;\n",
       "    }\n",
       "</style>\n",
       "<table border=\"1\" class=\"dataframe\">\n",
       "  <thead>\n",
       "    <tr style=\"text-align: right;\">\n",
       "      <th></th>\n",
       "      <th>chart_position</th>\n",
       "      <th>song</th>\n",
       "      <th>artist</th>\n",
       "      <th>genre</th>\n",
       "      <th>release</th>\n",
       "    </tr>\n",
       "  </thead>\n",
       "  <tbody>\n",
       "    <tr>\n",
       "      <th>0</th>\n",
       "      <td>1</td>\n",
       "      <td>Last Night</td>\n",
       "      <td>Morgan Wallen</td>\n",
       "      <td>Country</td>\n",
       "      <td>February 2, 2023</td>\n",
       "    </tr>\n",
       "    <tr>\n",
       "      <th>1</th>\n",
       "      <td>2</td>\n",
       "      <td>Flowers</td>\n",
       "      <td>Miley Cyrus</td>\n",
       "      <td>Pop</td>\n",
       "      <td>January 12, 2023</td>\n",
       "    </tr>\n",
       "    <tr>\n",
       "      <th>2</th>\n",
       "      <td>3</td>\n",
       "      <td>Fast Car</td>\n",
       "      <td>Luke Combs</td>\n",
       "      <td>Country</td>\n",
       "      <td>March 24, 2023</td>\n",
       "    </tr>\n",
       "    <tr>\n",
       "      <th>3</th>\n",
       "      <td>4</td>\n",
       "      <td>Thank God I Do</td>\n",
       "      <td>Lauren Daigle</td>\n",
       "      <td>Pop</td>\n",
       "      <td>March 10, 2023</td>\n",
       "    </tr>\n",
       "    <tr>\n",
       "      <th>4</th>\n",
       "      <td>5</td>\n",
       "      <td>Like Crazy (Deep House Remix)</td>\n",
       "      <td>Jimin</td>\n",
       "      <td>K-Pop</td>\n",
       "      <td>March 26, 2023</td>\n",
       "    </tr>\n",
       "    <tr>\n",
       "      <th>...</th>\n",
       "      <td>...</td>\n",
       "      <td>...</td>\n",
       "      <td>...</td>\n",
       "      <td>...</td>\n",
       "      <td>...</td>\n",
       "    </tr>\n",
       "    <tr>\n",
       "      <th>105</th>\n",
       "      <td>6</td>\n",
       "      <td>Bad and Boujee (feat. Lil Uzi Vert)</td>\n",
       "      <td>Migos</td>\n",
       "      <td>NaN</td>\n",
       "      <td>NaN</td>\n",
       "    </tr>\n",
       "    <tr>\n",
       "      <th>106</th>\n",
       "      <td>7</td>\n",
       "      <td>24K Magic</td>\n",
       "      <td>Bruno Mars</td>\n",
       "      <td>NaN</td>\n",
       "      <td>NaN</td>\n",
       "    </tr>\n",
       "    <tr>\n",
       "      <th>107</th>\n",
       "      <td>8</td>\n",
       "      <td>I'm the One (feat. Justin Bieber, Quavo, Chanc...</td>\n",
       "      <td>DJ Khaled</td>\n",
       "      <td>NaN</td>\n",
       "      <td>NaN</td>\n",
       "    </tr>\n",
       "    <tr>\n",
       "      <th>108</th>\n",
       "      <td>9</td>\n",
       "      <td>Congratulations (feat. Quavo)</td>\n",
       "      <td>Post Malone</td>\n",
       "      <td>NaN</td>\n",
       "      <td>NaN</td>\n",
       "    </tr>\n",
       "    <tr>\n",
       "      <th>109</th>\n",
       "      <td>10</td>\n",
       "      <td>Black Beatles (feat. Gucci Mane)</td>\n",
       "      <td>Rae Sremmurd</td>\n",
       "      <td>NaN</td>\n",
       "      <td>NaN</td>\n",
       "    </tr>\n",
       "  </tbody>\n",
       "</table>\n",
       "<p>110 rows × 5 columns</p>\n",
       "</div>"
      ],
      "text/plain": [
       "    chart_position                                               song  \\\n",
       "0                1                                         Last Night   \n",
       "1                2                                            Flowers   \n",
       "2                3                                           Fast Car   \n",
       "3                4                                     Thank God I Do   \n",
       "4                5                      Like Crazy (Deep House Remix)   \n",
       "..             ...                                                ...   \n",
       "105              6                Bad and Boujee (feat. Lil Uzi Vert)   \n",
       "106              7                                          24K Magic   \n",
       "107              8  I'm the One (feat. Justin Bieber, Quavo, Chanc...   \n",
       "108              9                      Congratulations (feat. Quavo)   \n",
       "109             10                   Black Beatles (feat. Gucci Mane)   \n",
       "\n",
       "            artist    genre           release  \n",
       "0    Morgan Wallen  Country  February 2, 2023  \n",
       "1      Miley Cyrus      Pop  January 12, 2023  \n",
       "2       Luke Combs  Country    March 24, 2023  \n",
       "3    Lauren Daigle      Pop    March 10, 2023  \n",
       "4            Jimin    K-Pop    March 26, 2023  \n",
       "..             ...      ...               ...  \n",
       "105          Migos      NaN               NaN  \n",
       "106     Bruno Mars      NaN               NaN  \n",
       "107      DJ Khaled      NaN               NaN  \n",
       "108    Post Malone      NaN               NaN  \n",
       "109   Rae Sremmurd      NaN               NaN  \n",
       "\n",
       "[110 rows x 5 columns]"
      ]
     },
     "execution_count": 25,
     "metadata": {},
     "output_type": "execute_result"
    }
   ],
   "source": [
    "songs_all = songs.append(songs2, ignore_index=True)\n",
    "songs_all"
   ]
  },
  {
   "cell_type": "code",
   "execution_count": 30,
   "id": "e5bb1642",
   "metadata": {},
   "outputs": [],
   "source": [
    "songs.to_csv('songs.csv', index = False)"
   ]
  },
  {
   "cell_type": "code",
   "execution_count": null,
   "id": "b995bf7b",
   "metadata": {},
   "outputs": [],
   "source": []
  },
  {
   "cell_type": "code",
   "execution_count": null,
   "id": "98b311ed",
   "metadata": {},
   "outputs": [],
   "source": []
  },
  {
   "cell_type": "code",
   "execution_count": null,
   "id": "94d4db23",
   "metadata": {},
   "outputs": [],
   "source": []
  },
  {
   "cell_type": "code",
   "execution_count": null,
   "id": "893f2c38",
   "metadata": {},
   "outputs": [],
   "source": []
  },
  {
   "cell_type": "code",
   "execution_count": 29,
   "id": "8432cf40",
   "metadata": {},
   "outputs": [
    {
     "name": "stdout",
     "output_type": "stream",
     "text": [
      "Enter your favorite songs\n",
      "> Flowers\n",
      "['Flowers']\n"
     ]
    },
    {
     "ename": "NameError",
     "evalue": "name 'song_lst' is not defined",
     "output_type": "error",
     "traceback": [
      "\u001b[1;31m---------------------------------------------------------------------------\u001b[0m",
      "\u001b[1;31mNameError\u001b[0m                                 Traceback (most recent call last)",
      "\u001b[1;32m~\\AppData\\Local\\Temp\\ipykernel_22124\\1572371242.py\u001b[0m in \u001b[0;36m<module>\u001b[1;34m\u001b[0m\n\u001b[0;32m     11\u001b[0m \u001b[1;32mfor\u001b[0m \u001b[0mi\u001b[0m \u001b[1;32min\u001b[0m \u001b[0mfavorites\u001b[0m\u001b[1;33m:\u001b[0m\u001b[1;33m\u001b[0m\u001b[1;33m\u001b[0m\u001b[0m\n\u001b[0;32m     12\u001b[0m     \u001b[1;32mif\u001b[0m \u001b[1;32mnot\u001b[0m \u001b[1;32mnot\u001b[0m \u001b[0mfav_lst\u001b[0m\u001b[1;33m:\u001b[0m\u001b[1;33m\u001b[0m\u001b[1;33m\u001b[0m\u001b[0m\n\u001b[1;32m---> 13\u001b[1;33m         \u001b[0mprint\u001b[0m\u001b[1;33m(\u001b[0m\u001b[0mrandom\u001b[0m\u001b[1;33m.\u001b[0m\u001b[0mchoice\u001b[0m\u001b[1;33m(\u001b[0m\u001b[0msong_lst\u001b[0m\u001b[1;33m)\u001b[0m\u001b[1;33m)\u001b[0m\u001b[1;33m\u001b[0m\u001b[1;33m\u001b[0m\u001b[0m\n\u001b[0m\u001b[0;32m     14\u001b[0m \u001b[1;31m# it works, but i cannot figure out, why its recommending 5 songs...\u001b[0m\u001b[1;33m\u001b[0m\u001b[1;33m\u001b[0m\u001b[0m\n",
      "\u001b[1;31mNameError\u001b[0m: name 'song_lst' is not defined"
     ]
    }
   ],
   "source": [
    "import random\n",
    "# song_lst = songs['song'].tolist()\n",
    "# song_lst\n",
    "\n",
    "input_song = [input('Enter your favorite songs\\n> ').strip()]\n",
    "\n",
    "favorites = songs[songs.song.isin(input_song)]\n",
    "fav_lst = favorites.song.tolist()\n",
    "print(fav_lst)\n",
    "\n",
    "for i in favorites:\n",
    "    if not not fav_lst:\n",
    "        print(random.choice(song_lst))\n",
    "# it works, but i cannot figure out, why its recommending 5 songs..."
   ]
  },
  {
   "cell_type": "code",
   "execution_count": null,
   "id": "b03d608c",
   "metadata": {},
   "outputs": [],
   "source": []
  },
  {
   "cell_type": "code",
   "execution_count": 54,
   "id": "30827315",
   "metadata": {},
   "outputs": [
    {
     "name": "stdout",
     "output_type": "stream",
     "text": [
      "please insert song name:Flower\n",
      "please insert artist: Miley Cyrus\n",
      "Sorry, we cannot recommend a song.\n",
      "You might like: Ed Sheeran\n"
     ]
    }
   ],
   "source": [
    "# great alternative from meysour\n",
    "song_title = input ('please insert song name:')\n",
    "song_artist = input('please insert artist: ')\n",
    "import random\n",
    "x = random.randint(0,100)\n",
    "# check if the song is in the DataFrame\n",
    "if song_title in songs['song'].values:\n",
    "    # if the song is in the DataFrame, recommend a different song\n",
    "    recommended_song = songs.loc[songs['song'] != song_title, 'song'].iloc[x]\n",
    "    print(\"You might like:\", recommended_song)\n",
    "else:\n",
    "    # if the song is not in the DataFrame, print a message\n",
    "    print(\"Sorry, we cannot recommend a song.\")\n",
    "\n",
    "if song_artist in songs['artist'].values:\n",
    "    recommended_artist = songs.loc[songs['artist'] != song_artist, 'artist'].iloc[x]\n",
    "    print (\"You might like:\", recommended_artist)\n",
    "else: \n",
    "    print(\"Sorry,we cannot recommend an artist.\")"
   ]
  },
  {
   "cell_type": "code",
   "execution_count": null,
   "id": "fb8a6082",
   "metadata": {
    "collapsed": true
   },
   "outputs": [],
   "source": []
  }
 ],
 "metadata": {
  "kernelspec": {
   "display_name": "Python 3 (ipykernel)",
   "language": "python",
   "name": "python3"
  },
  "language_info": {
   "codemirror_mode": {
    "name": "ipython",
    "version": 3
   },
   "file_extension": ".py",
   "mimetype": "text/x-python",
   "name": "python",
   "nbconvert_exporter": "python",
   "pygments_lexer": "ipython3",
   "version": "3.9.13"
  }
 },
 "nbformat": 4,
 "nbformat_minor": 5
}
